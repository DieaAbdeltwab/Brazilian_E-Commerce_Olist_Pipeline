{
 "cells": [
  {
   "cell_type": "code",
   "execution_count": 1,
   "id": "f4224b9e-d5be-4f98-998e-9423d3ab12ca",
   "metadata": {
    "execution": {
     "iopub.execute_input": "2025-07-21T19:44:14.312901Z",
     "iopub.status.busy": "2025-07-21T19:44:14.312363Z",
     "iopub.status.idle": "2025-07-21T19:44:14.605716Z",
     "shell.execute_reply": "2025-07-21T19:44:14.604908Z"
    },
    "papermill": {
     "duration": 0.316208,
     "end_time": "2025-07-21T19:44:14.608417",
     "exception": false,
     "start_time": "2025-07-21T19:44:14.292209",
     "status": "completed"
    },
    "tags": []
   },
   "outputs": [],
   "source": [
    "from pyspark.sql import SparkSession\n",
    "from pyspark.sql.functions import *"
   ]
  },
  {
   "cell_type": "code",
   "execution_count": 2,
   "id": "e48e5047-a4df-4af0-b37f-7da274b5df58",
   "metadata": {
    "execution": {
     "iopub.execute_input": "2025-07-21T19:44:14.643734Z",
     "iopub.status.busy": "2025-07-21T19:44:14.643261Z",
     "iopub.status.idle": "2025-07-21T19:44:30.196782Z",
     "shell.execute_reply": "2025-07-21T19:44:30.195589Z"
    },
    "papermill": {
     "duration": 15.573351,
     "end_time": "2025-07-21T19:44:30.199468",
     "exception": false,
     "start_time": "2025-07-21T19:44:14.626117",
     "status": "completed"
    },
    "tags": []
   },
   "outputs": [
    {
     "name": "stderr",
     "output_type": "stream",
     "text": [
      "WARNING: Using incubator modules: jdk.incubator.vector\n"
     ]
    },
    {
     "name": "stderr",
     "output_type": "stream",
     "text": [
      ":: loading settings :: url = jar:file:/home/airflow/.local/lib/python3.10/site-packages/pyspark/jars/ivy-2.5.3.jar!/org/apache/ivy/core/settings/ivysettings.xml\n",
      "Ivy Default Cache set to: /home/airflow/.ivy2.5.2/cache\n",
      "The jars for the packages stored in: /home/airflow/.ivy2.5.2/jars\n",
      "mysql#mysql-connector-java added as a dependency\n",
      "com.clickhouse#clickhouse-jdbc added as a dependency\n",
      ":: resolving dependencies :: org.apache.spark#spark-submit-parent-35c2570a-304d-496d-94b3-e73b3876f474;1.0\n",
      "\tconfs: [default]\n"
     ]
    },
    {
     "name": "stderr",
     "output_type": "stream",
     "text": [
      "mysql#mysql-connector-java;8.0.33 is relocated to com.mysql#mysql-connector-j;8.0.33. Please update your dependencies.\n",
      "\tfound mysql#mysql-connector-java;8.0.33 in central\n"
     ]
    },
    {
     "name": "stderr",
     "output_type": "stream",
     "text": [
      "\tfound com.mysql#mysql-connector-j;8.0.33 in central\n"
     ]
    },
    {
     "name": "stderr",
     "output_type": "stream",
     "text": [
      "\tfound com.google.protobuf#protobuf-java;3.21.9 in central\n"
     ]
    },
    {
     "name": "stderr",
     "output_type": "stream",
     "text": [
      "\tfound com.clickhouse#clickhouse-jdbc;0.4.6 in central\n",
      "downloading https://repo1.maven.org/maven2/com/clickhouse/clickhouse-jdbc/0.4.6/clickhouse-jdbc-0.4.6.jar ...\n"
     ]
    },
    {
     "name": "stderr",
     "output_type": "stream",
     "text": [
      "\t[SUCCESSFUL ] com.clickhouse#clickhouse-jdbc;0.4.6!clickhouse-jdbc.jar (1096ms)\n",
      "downloading https://repo1.maven.org/maven2/com/mysql/mysql-connector-j/8.0.33/mysql-connector-j-8.0.33.jar ...\n"
     ]
    },
    {
     "name": "stderr",
     "output_type": "stream",
     "text": [
      "\t[SUCCESSFUL ] com.mysql#mysql-connector-j;8.0.33!mysql-connector-j.jar (1416ms)\n",
      "downloading https://repo1.maven.org/maven2/com/google/protobuf/protobuf-java/3.21.9/protobuf-java-3.21.9.jar ...\n"
     ]
    },
    {
     "name": "stderr",
     "output_type": "stream",
     "text": [
      "\t[SUCCESSFUL ] com.google.protobuf#protobuf-java;3.21.9!protobuf-java.jar(bundle) (1005ms)\n",
      ":: resolution report :: resolve 4392ms :: artifacts dl 3527ms\n",
      "\t:: modules in use:\n",
      "\tcom.clickhouse#clickhouse-jdbc;0.4.6 from central in [default]\n",
      "\tcom.google.protobuf#protobuf-java;3.21.9 from central in [default]\n",
      "\tcom.mysql#mysql-connector-j;8.0.33 from central in [default]\n",
      "\tmysql#mysql-connector-java;8.0.33 from central in [default]\n",
      "\t---------------------------------------------------------------------\n",
      "\t|                  |            modules            ||   artifacts   |\n",
      "\t|       conf       | number| search|dwnlded|evicted|| number|dwnlded|\n",
      "\t---------------------------------------------------------------------\n",
      "\t|      default     |   4   |   4   |   4   |   0   ||   3   |   3   |\n",
      "\t---------------------------------------------------------------------\n",
      ":: retrieving :: org.apache.spark#spark-submit-parent-35c2570a-304d-496d-94b3-e73b3876f474\n",
      "\tconfs: [default]\n",
      "\t3 artifacts copied, 0 already retrieved (5293kB/28ms)\n"
     ]
    },
    {
     "name": "stderr",
     "output_type": "stream",
     "text": [
      "25/07/21 19:44:25 WARN NativeCodeLoader: Unable to load native-hadoop library for your platform... using builtin-java classes where applicable\n"
     ]
    },
    {
     "name": "stderr",
     "output_type": "stream",
     "text": [
      "Using Spark's default log4j profile: org/apache/spark/log4j2-defaults.properties\n",
      "Setting default log level to \"WARN\".\n",
      "To adjust logging level use sc.setLogLevel(newLevel). For SparkR, use setLogLevel(newLevel).\n"
     ]
    }
   ],
   "source": [
    "\n",
    "spark = SparkSession.builder \\\n",
    "    .appName(\"ecommerce-etl\") \\\n",
    "    .config(\"spark.jars.packages\", \"mysql:mysql-connector-java:8.0.33,com.clickhouse:clickhouse-jdbc:0.4.6\") \\\n",
    "    .getOrCreate()\n"
   ]
  },
  {
   "cell_type": "code",
   "execution_count": 3,
   "id": "fc1c809f-14a3-40ed-a0f6-43fb43ef65ad",
   "metadata": {
    "execution": {
     "iopub.execute_input": "2025-07-21T19:44:30.239019Z",
     "iopub.status.busy": "2025-07-21T19:44:30.238349Z",
     "iopub.status.idle": "2025-07-21T19:44:30.244901Z",
     "shell.execute_reply": "2025-07-21T19:44:30.243599Z"
    },
    "papermill": {
     "duration": 0.029301,
     "end_time": "2025-07-21T19:44:30.247496",
     "exception": false,
     "start_time": "2025-07-21T19:44:30.218195",
     "status": "completed"
    },
    "tags": []
   },
   "outputs": [],
   "source": [
    "# إعداد الاتصال بقاعدة بيانات MySQL\n",
    "mysql_url = \"jdbc:mysql://mysql:3306/mydb\"\n",
    "mysql_properties = {\n",
    "    \"user\": \"myuser\",\n",
    "    \"password\": \"mypassword\",\n",
    "    \"driver\": \"com.mysql.cj.jdbc.Driver\"\n",
    "}\n"
   ]
  },
  {
   "cell_type": "code",
   "execution_count": 4,
   "id": "00168b85-da4d-42a2-81ec-0f953d3e4ffc",
   "metadata": {
    "execution": {
     "iopub.execute_input": "2025-07-21T19:44:30.283318Z",
     "iopub.status.busy": "2025-07-21T19:44:30.282850Z",
     "iopub.status.idle": "2025-07-21T19:44:31.683616Z",
     "shell.execute_reply": "2025-07-21T19:44:31.682494Z"
    },
    "papermill": {
     "duration": 1.420658,
     "end_time": "2025-07-21T19:44:31.686298",
     "exception": false,
     "start_time": "2025-07-21T19:44:30.265640",
     "status": "completed"
    },
    "tags": []
   },
   "outputs": [],
   "source": [
    "customers = spark.read.jdbc(mysql_url, \"customers\", properties=mysql_properties)\n",
    "products = spark.read.jdbc(mysql_url, \"products\", properties=mysql_properties)\n",
    "product_category_translation = spark.read.jdbc(mysql_url, \"product_category_translation\", properties=mysql_properties)\n",
    "orders = spark.read.jdbc(mysql_url, \"orders\", properties=mysql_properties)\n",
    "order_items = spark.read.jdbc(mysql_url, \"order_items\", properties=mysql_properties)\n",
    "order_reviews = spark.read.jdbc(mysql_url, \"order_reviews\", properties=mysql_properties)\n",
    "order_payments = spark.read.jdbc(mysql_url, \"order_payments\", properties=mysql_properties)\n",
    "sellers = spark.read.jdbc(mysql_url, \"sellers\", properties=mysql_properties)\n",
    "geolocation = spark.read.jdbc(mysql_url, \"geolocation\", properties=mysql_properties)"
   ]
  },
  {
   "cell_type": "code",
   "execution_count": 5,
   "id": "eb0d4daa-2561-4993-b05f-c792503af2cc",
   "metadata": {
    "execution": {
     "iopub.execute_input": "2025-07-21T19:44:31.724090Z",
     "iopub.status.busy": "2025-07-21T19:44:31.723372Z",
     "iopub.status.idle": "2025-07-21T19:44:31.749184Z",
     "shell.execute_reply": "2025-07-21T19:44:31.747906Z"
    },
    "papermill": {
     "duration": 0.046701,
     "end_time": "2025-07-21T19:44:31.751598",
     "exception": false,
     "start_time": "2025-07-21T19:44:31.704897",
     "status": "completed"
    },
    "tags": []
   },
   "outputs": [
    {
     "name": "stdout",
     "output_type": "stream",
     "text": [
      "root\n",
      " |-- order_id: string (nullable = true)\n",
      " |-- customer_id: string (nullable = true)\n",
      " |-- order_status: string (nullable = true)\n",
      " |-- order_purchase_timestamp: string (nullable = true)\n",
      " |-- order_approved_at: string (nullable = true)\n",
      " |-- order_delivered_carrier_date: string (nullable = true)\n",
      " |-- order_delivered_customer_date: string (nullable = true)\n",
      " |-- order_estimated_delivery_date: string (nullable = true)\n",
      "\n"
     ]
    }
   ],
   "source": [
    "orders.printSchema()"
   ]
  },
  {
   "cell_type": "code",
   "execution_count": 6,
   "id": "ca708ee6-3dec-4d37-9ccc-a473fbec9046",
   "metadata": {
    "execution": {
     "iopub.execute_input": "2025-07-21T19:44:31.787255Z",
     "iopub.status.busy": "2025-07-21T19:44:31.786649Z",
     "iopub.status.idle": "2025-07-21T19:44:31.791708Z",
     "shell.execute_reply": "2025-07-21T19:44:31.790663Z"
    },
    "papermill": {
     "duration": 0.02416,
     "end_time": "2025-07-21T19:44:31.793570",
     "exception": false,
     "start_time": "2025-07-21T19:44:31.769410",
     "status": "completed"
    },
    "tags": []
   },
   "outputs": [],
   "source": [
    "#df = customers"
   ]
  },
  {
   "cell_type": "code",
   "execution_count": null,
   "id": "2710d964-6cac-4f0d-94bd-23586b857e3c",
   "metadata": {
    "papermill": {
     "duration": 0.01268,
     "end_time": "2025-07-21T19:44:31.820312",
     "exception": false,
     "start_time": "2025-07-21T19:44:31.807632",
     "status": "completed"
    },
    "tags": []
   },
   "outputs": [],
   "source": []
  },
  {
   "cell_type": "code",
   "execution_count": 7,
   "id": "bd243a20-3977-427e-9aee-ce53328d925d",
   "metadata": {
    "execution": {
     "iopub.execute_input": "2025-07-21T19:44:31.844912Z",
     "iopub.status.busy": "2025-07-21T19:44:31.844364Z",
     "iopub.status.idle": "2025-07-21T19:44:31.850540Z",
     "shell.execute_reply": "2025-07-21T19:44:31.848991Z"
    },
    "papermill": {
     "duration": 0.020611,
     "end_time": "2025-07-21T19:44:31.852610",
     "exception": false,
     "start_time": "2025-07-21T19:44:31.831999",
     "status": "completed"
    },
    "scrolled": true,
    "tags": []
   },
   "outputs": [],
   "source": [
    "#for i in df.columns :\n",
    "#    print(f\"=================================== {i} ============================== \")\n",
    "#    df.select(\n",
    "#        sum(when(col(i).isNull(), 1).otherwise(0)).alias(\"null_count\")\n",
    "#    ).show()"
   ]
  },
  {
   "cell_type": "code",
   "execution_count": 8,
   "id": "27a46ca0-3814-45eb-9c03-7e83556a9af9",
   "metadata": {
    "execution": {
     "iopub.execute_input": "2025-07-21T19:44:31.877378Z",
     "iopub.status.busy": "2025-07-21T19:44:31.876814Z",
     "iopub.status.idle": "2025-07-21T19:44:31.881952Z",
     "shell.execute_reply": "2025-07-21T19:44:31.880702Z"
    },
    "papermill": {
     "duration": 0.019595,
     "end_time": "2025-07-21T19:44:31.883883",
     "exception": false,
     "start_time": "2025-07-21T19:44:31.864288",
     "status": "completed"
    },
    "scrolled": true,
    "tags": []
   },
   "outputs": [],
   "source": [
    "#for i in df.columns:\n",
    "#    if isinstance(df.schema[i].dataType, StringType):  # Check if column is string type\n",
    "#        print(f\"================================= {i} ============================================\")\n",
    "#        df.groupBy(i).agg(count(\"*\").alias(\"value_count\")).orderBy(col(\"value_count\")).show(n=2000,truncate=False)"
   ]
  },
  {
   "cell_type": "code",
   "execution_count": null,
   "id": "70f674c4-2754-48a9-9e88-53aab2aee21d",
   "metadata": {
    "papermill": {
     "duration": 0.009459,
     "end_time": "2025-07-21T19:44:31.903149",
     "exception": false,
     "start_time": "2025-07-21T19:44:31.893690",
     "status": "completed"
    },
    "scrolled": true,
    "tags": []
   },
   "outputs": [],
   "source": []
  },
  {
   "cell_type": "code",
   "execution_count": 9,
   "id": "baa4648f-9b02-404b-9081-3e38ce5d7254",
   "metadata": {
    "execution": {
     "iopub.execute_input": "2025-07-21T19:44:31.924321Z",
     "iopub.status.busy": "2025-07-21T19:44:31.923790Z",
     "iopub.status.idle": "2025-07-21T19:44:31.930375Z",
     "shell.execute_reply": "2025-07-21T19:44:31.928840Z"
    },
    "papermill": {
     "duration": 0.018814,
     "end_time": "2025-07-21T19:44:31.932146",
     "exception": false,
     "start_time": "2025-07-21T19:44:31.913332",
     "status": "completed"
    },
    "tags": []
   },
   "outputs": [],
   "source": [
    "#==================================================================================================================\n",
    "#==================================================================================================================\n",
    "#==================================================================================================================\n",
    "#==================================================================================================================\n",
    "#==================================================================================================================\n",
    "#==================================================================================================================\n",
    "#==================================================================================================================\n",
    "#=================================================================================================================="
   ]
  },
  {
   "cell_type": "code",
   "execution_count": 10,
   "id": "6a6dfa96-8afe-499b-87aa-21aeb5032259",
   "metadata": {
    "execution": {
     "iopub.execute_input": "2025-07-21T19:44:31.952608Z",
     "iopub.status.busy": "2025-07-21T19:44:31.952102Z",
     "iopub.status.idle": "2025-07-21T19:44:32.148682Z",
     "shell.execute_reply": "2025-07-21T19:44:32.147208Z"
    },
    "papermill": {
     "duration": 0.209205,
     "end_time": "2025-07-21T19:44:32.150950",
     "exception": false,
     "start_time": "2025-07-21T19:44:31.941745",
     "status": "completed"
    },
    "tags": []
   },
   "outputs": [],
   "source": [
    "#======================================================= customers ===========================================\n",
    "customers_clean = customers.dropDuplicates([\"customer_id\"])\n",
    "customers_clean = customers_clean.filter(length(\"customer_zip_code_prefix\") == 5)\n",
    "customers_clean = customers_clean.filter(length(\"customer_state\") == 2)\n"
   ]
  },
  {
   "cell_type": "code",
   "execution_count": 11,
   "id": "62745fc5-6db6-46f3-b95d-fe46cdbca056",
   "metadata": {
    "execution": {
     "iopub.execute_input": "2025-07-21T19:44:32.171681Z",
     "iopub.status.busy": "2025-07-21T19:44:32.171160Z",
     "iopub.status.idle": "2025-07-21T19:44:32.184212Z",
     "shell.execute_reply": "2025-07-21T19:44:32.182791Z"
    },
    "papermill": {
     "duration": 0.025184,
     "end_time": "2025-07-21T19:44:32.185757",
     "exception": false,
     "start_time": "2025-07-21T19:44:32.160573",
     "status": "completed"
    },
    "tags": []
   },
   "outputs": [],
   "source": [
    "corrections = {\n",
    "    \"sao jorge d oeste\": \"sao jorge do oeste\",\n",
    "    \"estrela d oeste\": \"estrela do oeste\", \n",
    "    \"palma d oeste\": \"palma do oeste\",\n",
    "    \"sao jorge d'oeste\": \"sao jorge do oeste\",\n",
    "    \"estrela d'oeste\": \"estrela do oeste\",\n",
    "    \"palma d'oeste\": \"palma do oeste\",\n",
    "    \"alvorada d'oeste\": \"alvorada do oeste\",\n",
    "    \"diamante d'oeste\": \"diamante do oeste\",\n",
    "    \"rancho alegre d'oeste\": \"rancho alegre do oeste\",\n",
    "    \"bandeirantes d'oeste\": \"bandeirantes do oeste\",\n",
    "    \"santa clara d'oeste\": \"santa clara do oeste\",\n",
    "    \"santa rita d'oeste\": \"santa rita do oeste\",\n",
    "    \"aparecida d'oeste\": \"aparecida do oeste\",\n",
    "    \"palmeira d oeste\": \"palmeira do oeste\",\n",
    "    \"palmeira d'oeste\": \"palmeira do oeste\" ,\n",
    "    'sao paulo - sp': 'sao paulo',\n",
    "    'sao paulo sp': 'sao paulo',\n",
    "    'sp': 'sao paulo',\n",
    "    'sao  paulo': 'sao paulo',\n",
    "    'sao pauo': 'sao paulo',\n",
    "    'sao paulop': 'sao paulo',\n",
    "    'são paulo': 'sao paulo',\n",
    "    'sbc': 'sao bernardo do campo',\n",
    "    'sbc/sp': 'sao bernardo do campo',\n",
    "    'riberao preto': 'ribeirao preto',\n",
    "    'robeirao preto': 'ribeirao preto',\n",
    "    'ribeirao pretp': 'ribeirao preto',\n",
    "    'sando andre': 'santo andre',\n",
    "    'ao bernardo do campo': 'sao bernardo do campo',\n",
    "    'garulhos': 'guarulhos',\n",
    "    'brasilia df': 'brasilia',\n",
    "    'rio de janeiro / rio de janeiro': 'rio de janeiro',\n",
    "    'rio de janeiro, rio de janeiro, brasil': 'rio de janeiro',\n",
    "    'mogi das cruses': 'mogi das cruzes',\n",
    "    'mogi das cruzes / sp': 'mogi das cruzes',\n",
    "    'santo andre/sao paulo': 'santo andre',\n",
    "    \"santa barbara d´oeste\": \"santa barbara d'oeste\",\n",
    "    \"santa barbara d oeste\": \"santa barbara d'oeste\",\n",
    "    'belo horizont': 'belo horizonte',\n",
    "    'cascavael': 'cascavel',\n",
    "    'floranopolis': 'florianopolis',\n",
    "}"
   ]
  },
  {
   "cell_type": "code",
   "execution_count": 12,
   "id": "10b28b50-5740-416d-9c91-7e9dbabd23e2",
   "metadata": {
    "execution": {
     "iopub.execute_input": "2025-07-21T19:44:32.207941Z",
     "iopub.status.busy": "2025-07-21T19:44:32.207434Z",
     "iopub.status.idle": "2025-07-21T19:44:33.184197Z",
     "shell.execute_reply": "2025-07-21T19:44:33.182590Z"
    },
    "papermill": {
     "duration": 0.9906,
     "end_time": "2025-07-21T19:44:33.186391",
     "exception": false,
     "start_time": "2025-07-21T19:44:32.195791",
     "status": "completed"
    },
    "tags": []
   },
   "outputs": [],
   "source": [
    "# الخطوة 1: تنظيف أساسي (يتم تطبيقه مباشرة على العمود الأصلي)\n",
    "customers_clean = customers_clean.withColumn(\n",
    "    \"customer_city\",\n",
    "    lower(trim(regexp_replace(col(\"customer_city\"), \"[^a-zA-ZÀ-ÿ ]\", \"\")))\n",
    ")\n",
    "\n",
    "# الخطوة 2: تصحيح التهجئات الشائعة\n",
    "customers_clean = customers_clean.withColumn(\n",
    "    \"customer_city\",\n",
    "    regexp_replace(col(\"customer_city\"), \"\\\\bd['\\\\s]o\\\\b\", \" do \")\n",
    ")\n",
    "\n",
    "\n",
    "for wrong, correct in corrections.items():\n",
    "    customers_clean = customers_clean.withColumn(\n",
    "        \"customer_city\",\n",
    "        when(col(\"customer_city\") == wrong, correct).otherwise(col(\"customer_city\"))\n",
    ")\n"
   ]
  },
  {
   "cell_type": "code",
   "execution_count": 13,
   "id": "d71d5910-b98b-4c04-98fa-3241cf72745f",
   "metadata": {
    "execution": {
     "iopub.execute_input": "2025-07-21T19:44:33.213101Z",
     "iopub.status.busy": "2025-07-21T19:44:33.212527Z",
     "iopub.status.idle": "2025-07-21T19:44:33.218760Z",
     "shell.execute_reply": "2025-07-21T19:44:33.216830Z"
    },
    "papermill": {
     "duration": 0.022029,
     "end_time": "2025-07-21T19:44:33.220827",
     "exception": false,
     "start_time": "2025-07-21T19:44:33.198798",
     "status": "completed"
    },
    "scrolled": true,
    "tags": []
   },
   "outputs": [],
   "source": [
    "#print(f\"================================= customer_state ============================================\")\n",
    "#customers.groupBy(\"customer_city\").agg(count(\"*\").alias(\"value_count\")).orderBy(col(\"value_count\")).show(n=20000,truncate=False)"
   ]
  },
  {
   "cell_type": "code",
   "execution_count": 14,
   "id": "5292758f-ca24-485b-b592-178a9f4baf24",
   "metadata": {
    "execution": {
     "iopub.execute_input": "2025-07-21T19:44:33.248155Z",
     "iopub.status.busy": "2025-07-21T19:44:33.247782Z",
     "iopub.status.idle": "2025-07-21T19:44:33.251789Z",
     "shell.execute_reply": "2025-07-21T19:44:33.250951Z"
    },
    "papermill": {
     "duration": 0.019028,
     "end_time": "2025-07-21T19:44:33.253418",
     "exception": false,
     "start_time": "2025-07-21T19:44:33.234390",
     "status": "completed"
    },
    "scrolled": true,
    "tags": []
   },
   "outputs": [],
   "source": [
    "#print(f\"================================= customer_state ============================================\")\n",
    "#customers_clean.groupBy(\"customer_city\").agg(count(\"*\").alias(\"value_count\")).orderBy(col(\"value_count\")).show(n=20000,truncate=False)"
   ]
  },
  {
   "cell_type": "code",
   "execution_count": 15,
   "id": "1b65af04-7334-4c2d-aa36-175bf8bfe666",
   "metadata": {
    "execution": {
     "iopub.execute_input": "2025-07-21T19:44:33.279703Z",
     "iopub.status.busy": "2025-07-21T19:44:33.278755Z",
     "iopub.status.idle": "2025-07-21T19:44:40.091381Z",
     "shell.execute_reply": "2025-07-21T19:44:40.089465Z"
    },
    "papermill": {
     "duration": 6.828712,
     "end_time": "2025-07-21T19:44:40.094107",
     "exception": false,
     "start_time": "2025-07-21T19:44:33.265395",
     "status": "completed"
    },
    "tags": []
   },
   "outputs": [
    {
     "name": "stdout",
     "output_type": "stream",
     "text": [
      "================================= Distinct customer_city count ============================================\n"
     ]
    },
    {
     "name": "stderr",
     "output_type": "stream",
     "text": [
      "\r",
      "[Stage 0:>                                                          (0 + 1) / 1]\r"
     ]
    },
    {
     "name": "stderr",
     "output_type": "stream",
     "text": [
      "\r",
      "[Stage 2:>                                                          (0 + 5) / 5]\r"
     ]
    },
    {
     "name": "stderr",
     "output_type": "stream",
     "text": [
      "\r",
      "[Stage 2:===============================================>           (4 + 1) / 5]\r"
     ]
    },
    {
     "name": "stdout",
     "output_type": "stream",
     "text": [
      "عدد القيم المختلفة في customer_city هو: 4078\n"
     ]
    },
    {
     "name": "stderr",
     "output_type": "stream",
     "text": [
      "\r",
      "                                                                                \r"
     ]
    }
   ],
   "source": [
    "print(\"================================= Distinct customer_city count ============================================\")\n",
    "distinct_count = customers_clean.select(\"customer_city\").distinct().count()\n",
    "print(f\"عدد القيم المختلفة في customer_city هو: {distinct_count}\")"
   ]
  },
  {
   "cell_type": "code",
   "execution_count": 16,
   "id": "bda328fc-abcb-4928-b8c9-3c2902a47e1d",
   "metadata": {
    "execution": {
     "iopub.execute_input": "2025-07-21T19:44:40.137962Z",
     "iopub.status.busy": "2025-07-21T19:44:40.137411Z",
     "iopub.status.idle": "2025-07-21T19:44:40.759405Z",
     "shell.execute_reply": "2025-07-21T19:44:40.757951Z"
    },
    "papermill": {
     "duration": 0.645404,
     "end_time": "2025-07-21T19:44:40.762707",
     "exception": false,
     "start_time": "2025-07-21T19:44:40.117303",
     "status": "completed"
    },
    "tags": []
   },
   "outputs": [
    {
     "name": "stdout",
     "output_type": "stream",
     "text": [
      "================================= Distinct customer_city count ============================================\n"
     ]
    },
    {
     "name": "stdout",
     "output_type": "stream",
     "text": [
      "عدد القيم المختلفة في customer_city هو: 4119\n"
     ]
    }
   ],
   "source": [
    "print(\"================================= Distinct customer_city count ============================================\")\n",
    "distinct_count = customers.select(\"customer_city\").distinct().count()\n",
    "print(f\"عدد القيم المختلفة في customer_city هو: {distinct_count}\")"
   ]
  },
  {
   "cell_type": "code",
   "execution_count": 17,
   "id": "5091b138-2a16-4ee7-8799-8fbd07ff20de",
   "metadata": {
    "execution": {
     "iopub.execute_input": "2025-07-21T19:44:40.801699Z",
     "iopub.status.busy": "2025-07-21T19:44:40.801140Z",
     "iopub.status.idle": "2025-07-21T19:44:40.810514Z",
     "shell.execute_reply": "2025-07-21T19:44:40.809094Z"
    },
    "papermill": {
     "duration": 0.03155,
     "end_time": "2025-07-21T19:44:40.813109",
     "exception": false,
     "start_time": "2025-07-21T19:44:40.781559",
     "status": "completed"
    },
    "tags": []
   },
   "outputs": [
    {
     "name": "stdout",
     "output_type": "stream",
     "text": [
      "root\n",
      " |-- customer_id: string (nullable = true)\n",
      " |-- customer_unique_id: string (nullable = true)\n",
      " |-- customer_zip_code_prefix: long (nullable = true)\n",
      " |-- customer_city: string (nullable = true)\n",
      " |-- customer_state: string (nullable = true)\n",
      "\n"
     ]
    }
   ],
   "source": [
    "customers_clean.printSchema()"
   ]
  },
  {
   "cell_type": "code",
   "execution_count": 18,
   "id": "9e950b62-85b8-4623-a6a0-29d42eab0bab",
   "metadata": {
    "execution": {
     "iopub.execute_input": "2025-07-21T19:44:40.843709Z",
     "iopub.status.busy": "2025-07-21T19:44:40.843131Z",
     "iopub.status.idle": "2025-07-21T19:44:41.056575Z",
     "shell.execute_reply": "2025-07-21T19:44:41.055021Z"
    },
    "papermill": {
     "duration": 0.232748,
     "end_time": "2025-07-21T19:44:41.059044",
     "exception": false,
     "start_time": "2025-07-21T19:44:40.826296",
     "status": "completed"
    },
    "tags": []
   },
   "outputs": [],
   "source": [
    "#======================================================= products ===========================================\n",
    "products_clean = products.filter(products.product_category_name.isNotNull())\n",
    "products_clean = products_clean.dropna(subset=[\n",
    "    \"product_weight_g\", \"product_length_cm\", \"product_height_cm\", \"product_width_cm\"\n",
    "])\n",
    "products_clean = products_clean \\\n",
    "    .withColumn(\"product_name_lenght\", col(\"product_name_lenght\").cast(\"int\")) \\\n",
    "    .withColumn(\"product_description_lenght\", col(\"product_description_lenght\").cast(\"int\")) \\\n",
    "    .withColumn(\"product_photos_qty\", col(\"product_photos_qty\").cast(\"int\")) \\\n",
    "    .withColumn(\"product_weight_g\", col(\"product_weight_g\").cast(\"int\")) \\\n",
    "    .withColumn(\"product_length_cm\", col(\"product_length_cm\").cast(\"int\")) \\\n",
    "    .withColumn(\"product_height_cm\", col(\"product_height_cm\").cast(\"int\")) \\\n",
    "    .withColumn(\"product_width_cm\", col(\"product_width_cm\").cast(\"int\"))\n",
    "\n",
    "products_clean = products_clean.withColumn(\n",
    "    \"product_volume_cm3\",\n",
    "    expr(\"product_length_cm * product_height_cm * product_width_cm\")\n",
    ")\n",
    "products_clean = products_clean.withColumn(\n",
    "    \"product_category_name\", trim(lower(\"product_category_name\"))\n",
    ")\n"
   ]
  },
  {
   "cell_type": "code",
   "execution_count": 19,
   "id": "b984cfe1-ceaa-4439-b209-afeddacca5bc",
   "metadata": {
    "execution": {
     "iopub.execute_input": "2025-07-21T19:44:41.093699Z",
     "iopub.status.busy": "2025-07-21T19:44:41.093145Z",
     "iopub.status.idle": "2025-07-21T19:44:41.100711Z",
     "shell.execute_reply": "2025-07-21T19:44:41.099390Z"
    },
    "papermill": {
     "duration": 0.027737,
     "end_time": "2025-07-21T19:44:41.103341",
     "exception": false,
     "start_time": "2025-07-21T19:44:41.075604",
     "status": "completed"
    },
    "tags": []
   },
   "outputs": [
    {
     "name": "stdout",
     "output_type": "stream",
     "text": [
      "root\n",
      " |-- product_id: string (nullable = true)\n",
      " |-- product_category_name: string (nullable = true)\n",
      " |-- product_name_lenght: integer (nullable = true)\n",
      " |-- product_description_lenght: integer (nullable = true)\n",
      " |-- product_photos_qty: integer (nullable = true)\n",
      " |-- product_weight_g: integer (nullable = true)\n",
      " |-- product_length_cm: integer (nullable = true)\n",
      " |-- product_height_cm: integer (nullable = true)\n",
      " |-- product_width_cm: integer (nullable = true)\n",
      " |-- product_volume_cm3: integer (nullable = true)\n",
      "\n"
     ]
    }
   ],
   "source": [
    "products_clean.printSchema()"
   ]
  },
  {
   "cell_type": "code",
   "execution_count": 20,
   "id": "5c24da58-ed1c-4487-915d-dcd332c22784",
   "metadata": {
    "execution": {
     "iopub.execute_input": "2025-07-21T19:44:41.139518Z",
     "iopub.status.busy": "2025-07-21T19:44:41.138622Z",
     "iopub.status.idle": "2025-07-21T19:44:41.152365Z",
     "shell.execute_reply": "2025-07-21T19:44:41.151045Z"
    },
    "papermill": {
     "duration": 0.033328,
     "end_time": "2025-07-21T19:44:41.154547",
     "exception": false,
     "start_time": "2025-07-21T19:44:41.121219",
     "status": "completed"
    },
    "tags": []
   },
   "outputs": [],
   "source": [
    "#======================================================= product_category_translation ===========================================\n",
    "product_category_translation_clean = product_category_translation.withColumn(\n",
    "    \"product_category_name\", trim(lower(\"product_category_name\"))\n",
    ")\n"
   ]
  },
  {
   "cell_type": "code",
   "execution_count": 21,
   "id": "df1ae30b-f955-4959-b0db-6ca3b0980154",
   "metadata": {
    "execution": {
     "iopub.execute_input": "2025-07-21T19:44:41.178737Z",
     "iopub.status.busy": "2025-07-21T19:44:41.178192Z",
     "iopub.status.idle": "2025-07-21T19:44:41.219153Z",
     "shell.execute_reply": "2025-07-21T19:44:41.217658Z"
    },
    "papermill": {
     "duration": 0.054824,
     "end_time": "2025-07-21T19:44:41.221237",
     "exception": false,
     "start_time": "2025-07-21T19:44:41.166413",
     "status": "completed"
    },
    "tags": []
   },
   "outputs": [],
   "source": [
    "#=======================================================  product ===========================================\n",
    "products_enriched = products_clean.join(\n",
    "    product_category_translation_clean,\n",
    "    on=\"product_category_name\",\n",
    "    how=\"left\"\n",
    ")"
   ]
  },
  {
   "cell_type": "code",
   "execution_count": 22,
   "id": "224b8743-779e-4f22-aa2f-6772e78f22a0",
   "metadata": {
    "execution": {
     "iopub.execute_input": "2025-07-21T19:44:41.249378Z",
     "iopub.status.busy": "2025-07-21T19:44:41.248784Z",
     "iopub.status.idle": "2025-07-21T19:44:41.350639Z",
     "shell.execute_reply": "2025-07-21T19:44:41.349102Z"
    },
    "papermill": {
     "duration": 0.118105,
     "end_time": "2025-07-21T19:44:41.352853",
     "exception": false,
     "start_time": "2025-07-21T19:44:41.234748",
     "status": "completed"
    },
    "tags": []
   },
   "outputs": [],
   "source": [
    "#======================================================= orders ===========================================\n",
    "\n",
    "orders_clean = orders.filter(\n",
    "    ~col(\"order_status\").isin(\"created\", \"approved\")\n",
    ")\n",
    "\n",
    "orders_clean = orders_clean \\\n",
    "    .withColumn(\"order_purchase_timestamp\", to_timestamp(\"order_purchase_timestamp\")) \\\n",
    "    .withColumn(\"order_approved_at\", to_timestamp(\"order_approved_at\")) \\\n",
    "    .withColumn(\"order_delivered_carrier_date\", to_timestamp(\"order_delivered_carrier_date\")) \\\n",
    "    .withColumn(\"order_delivered_customer_date\", to_timestamp(\"order_delivered_customer_date\")) \\\n",
    "    .withColumn(\"order_estimated_delivery_date\", to_timestamp(\"order_estimated_delivery_date\"))\n",
    "\n",
    "orders_clean = orders_clean.withColumn(\n",
    "    \"shipping_days\",\n",
    "    datediff(\"order_delivered_customer_date\", \"order_purchase_timestamp\")\n",
    ")\n",
    "orders_clean = orders_clean.withColumn(\n",
    "    \"delivery_delay\",\n",
    "    datediff(\"order_delivered_customer_date\", \"order_estimated_delivery_date\")\n",
    ")"
   ]
  },
  {
   "cell_type": "code",
   "execution_count": 23,
   "id": "fd3a7da7-f884-4240-b3a4-a821f84b3306",
   "metadata": {
    "execution": {
     "iopub.execute_input": "2025-07-21T19:44:41.380372Z",
     "iopub.status.busy": "2025-07-21T19:44:41.379797Z",
     "iopub.status.idle": "2025-07-21T19:44:42.473857Z",
     "shell.execute_reply": "2025-07-21T19:44:42.472525Z"
    },
    "papermill": {
     "duration": 1.110762,
     "end_time": "2025-07-21T19:44:42.476279",
     "exception": false,
     "start_time": "2025-07-21T19:44:41.365517",
     "status": "completed"
    },
    "tags": []
   },
   "outputs": [
    {
     "data": {
      "text/plain": [
       "True"
      ]
     },
     "execution_count": 23,
     "metadata": {},
     "output_type": "execute_result"
    }
   ],
   "source": [
    "orders_clean.select(\"order_id\").distinct().count() == orders_clean.count()"
   ]
  },
  {
   "cell_type": "code",
   "execution_count": 24,
   "id": "60c35027-b15b-4f75-af7c-a82eb8353104",
   "metadata": {
    "execution": {
     "iopub.execute_input": "2025-07-21T19:44:42.513265Z",
     "iopub.status.busy": "2025-07-21T19:44:42.512651Z",
     "iopub.status.idle": "2025-07-21T19:44:42.570636Z",
     "shell.execute_reply": "2025-07-21T19:44:42.569329Z"
    },
    "papermill": {
     "duration": 0.079446,
     "end_time": "2025-07-21T19:44:42.573090",
     "exception": false,
     "start_time": "2025-07-21T19:44:42.493644",
     "status": "completed"
    },
    "tags": []
   },
   "outputs": [],
   "source": [
    "#======================================================= order_items ===========================================\n",
    "#order_items_clean = order_items_clean.filter((col(\"price\") <= 0) | (col(\"freight_value\") < 0))\n",
    "order_items_clean = order_items.withColumn(\n",
    "    \"shipping_limit_date\", to_timestamp(\"shipping_limit_date\")\n",
    ")\n",
    "\n",
    "# نحتفظ بالصفوف اللي سعرها أكبر من صفر\n",
    "order_items_clean = order_items_clean.filter((col(\"price\") > 0) & (col(\"freight_value\") >= 0))\n",
    "\n",
    "# نضيف total_cost\n",
    "order_items_clean = order_items_clean.withColumn(\n",
    "    \"total_cost\", expr(\"price + freight_value\")\n",
    ")"
   ]
  },
  {
   "cell_type": "code",
   "execution_count": 25,
   "id": "ec5fff09-0569-40fc-ba9b-92b7e2fb03d7",
   "metadata": {
    "execution": {
     "iopub.execute_input": "2025-07-21T19:44:42.611641Z",
     "iopub.status.busy": "2025-07-21T19:44:42.611075Z",
     "iopub.status.idle": "2025-07-21T19:44:42.618054Z",
     "shell.execute_reply": "2025-07-21T19:44:42.616146Z"
    },
    "papermill": {
     "duration": 0.028984,
     "end_time": "2025-07-21T19:44:42.620155",
     "exception": false,
     "start_time": "2025-07-21T19:44:42.591171",
     "status": "completed"
    },
    "tags": []
   },
   "outputs": [],
   "source": [
    "#order_items.show()"
   ]
  },
  {
   "cell_type": "code",
   "execution_count": 26,
   "id": "9178ce0d-08ff-411d-a80a-daaf3610106d",
   "metadata": {
    "execution": {
     "iopub.execute_input": "2025-07-21T19:44:42.654514Z",
     "iopub.status.busy": "2025-07-21T19:44:42.653588Z",
     "iopub.status.idle": "2025-07-21T19:44:42.744498Z",
     "shell.execute_reply": "2025-07-21T19:44:42.743039Z"
    },
    "papermill": {
     "duration": 0.109992,
     "end_time": "2025-07-21T19:44:42.746828",
     "exception": false,
     "start_time": "2025-07-21T19:44:42.636836",
     "status": "completed"
    },
    "tags": []
   },
   "outputs": [],
   "source": [
    "#======================================================= order_reviews ===========================================\n",
    "order_reviews_clean = order_reviews \\\n",
    "    .withColumn(\"review_creation_date\", to_timestamp(\"review_creation_date\")) \\\n",
    "    .withColumn(\"review_answer_timestamp\", to_timestamp(\"review_answer_timestamp\"))\n",
    "\n",
    "order_reviews_clean = order_reviews_clean \\\n",
    "    .withColumn(\"has_message\", when(order_reviews_clean.review_comment_message.isNull(), 0).otherwise(1)) \\\n",
    "    .withColumn(\"has_title\", when(order_reviews_clean.review_comment_title.isNull(), 0).otherwise(1))\n",
    "\n",
    "order_reviews_clean = order_reviews_clean \\\n",
    "    .withColumn(\"clean_comment_message\", trim(lower(regexp_replace(\"review_comment_message\", \"[^a-zA-Z0-9çãáéíóúâêôõüàèìòùÇÃÁÉÍÓÚÂÊÔÕÜÀÈÌÒÙ ]\", \"\")))) \\\n",
    "    .withColumn(\"clean_comment_title\", trim(lower(regexp_replace(\"review_comment_title\", \"[^a-zA-Z0-9çãáéíóúâêôõüàèìòùÇÃÁÉÍÓÚÂÊÔÕÜÀÈÌÒÙ ]\", \"\"))))\n",
    "\n",
    "order_reviews_clean = order_reviews_clean.withColumn(\n",
    "    \"review_sentiment\",\n",
    "    when(col(\"review_score\") >= 4, \"positive\")\n",
    "    .when(col(\"review_score\") == 3, \"neutral\")\n",
    "    .otherwise(\"negative\")\n",
    ")"
   ]
  },
  {
   "cell_type": "code",
   "execution_count": null,
   "id": "42f82c70-44bd-4c7a-b570-566cc797b2ad",
   "metadata": {
    "papermill": {
     "duration": 0.012311,
     "end_time": "2025-07-21T19:44:42.774598",
     "exception": false,
     "start_time": "2025-07-21T19:44:42.762287",
     "status": "completed"
    },
    "tags": []
   },
   "outputs": [],
   "source": []
  },
  {
   "cell_type": "code",
   "execution_count": 27,
   "id": "ef6c0c11-ccb0-42f4-8e98-9e97aa2d5873",
   "metadata": {
    "execution": {
     "iopub.execute_input": "2025-07-21T19:44:42.803919Z",
     "iopub.status.busy": "2025-07-21T19:44:42.803054Z",
     "iopub.status.idle": "2025-07-21T19:44:42.850222Z",
     "shell.execute_reply": "2025-07-21T19:44:42.848728Z"
    },
    "papermill": {
     "duration": 0.065562,
     "end_time": "2025-07-21T19:44:42.852411",
     "exception": false,
     "start_time": "2025-07-21T19:44:42.786849",
     "status": "completed"
    },
    "tags": []
   },
   "outputs": [],
   "source": [
    "#======================================================= order_payments ===========================================\n",
    "order_payments_clean = order_payments.groupBy(\"order_id\").agg(\n",
    "    sum(\"payment_value\").alias(\"total_payment\"),\n",
    "    sum(\"payment_installments\").alias(\"total_installments\"),\n",
    "    count_distinct(\"payment_type\").alias(\"payment_methods_count\"),\n",
    "    first(\"payment_type\").alias(\"main_payment_type\")\n",
    ")"
   ]
  },
  {
   "cell_type": "code",
   "execution_count": 28,
   "id": "12efa717-841a-4f4e-b939-1ead99abfb9d",
   "metadata": {
    "execution": {
     "iopub.execute_input": "2025-07-21T19:44:42.879343Z",
     "iopub.status.busy": "2025-07-21T19:44:42.878431Z",
     "iopub.status.idle": "2025-07-21T19:44:42.917131Z",
     "shell.execute_reply": "2025-07-21T19:44:42.915784Z"
    },
    "papermill": {
     "duration": 0.054368,
     "end_time": "2025-07-21T19:44:42.919280",
     "exception": false,
     "start_time": "2025-07-21T19:44:42.864912",
     "status": "completed"
    },
    "tags": []
   },
   "outputs": [],
   "source": [
    "#=======================================================  order ===========================================\n",
    "orders_items_joined = orders_clean.join(\n",
    "    order_items_clean,\n",
    "    on=\"order_id\",\n",
    "    how=\"left\"\n",
    ")\n",
    "orders_items_payments_joined = orders_items_joined.join(\n",
    "    order_payments_clean,\n",
    "    on=\"order_id\",\n",
    "    how=\"left\"\n",
    ")\n",
    "orders_full_cleaned = orders_items_payments_joined.join(\n",
    "    order_reviews_clean,\n",
    "    on=\"order_id\",\n",
    "    how=\"left\"\n",
    ")\n"
   ]
  },
  {
   "cell_type": "code",
   "execution_count": 29,
   "id": "7f5b03ac-7ff6-48b6-92f5-b18967d753d6",
   "metadata": {
    "execution": {
     "iopub.execute_input": "2025-07-21T19:44:42.949313Z",
     "iopub.status.busy": "2025-07-21T19:44:42.948405Z",
     "iopub.status.idle": "2025-07-21T19:44:42.954247Z",
     "shell.execute_reply": "2025-07-21T19:44:42.953185Z"
    },
    "papermill": {
     "duration": 0.023168,
     "end_time": "2025-07-21T19:44:42.956101",
     "exception": false,
     "start_time": "2025-07-21T19:44:42.932933",
     "status": "completed"
    },
    "tags": []
   },
   "outputs": [],
   "source": [
    "#orders_clean.select(\"seller_id\", \"product_id\",\"shipping_limit_date\", \"price\",\"freight_value\", \"total_cost\").show()\n"
   ]
  },
  {
   "cell_type": "code",
   "execution_count": 30,
   "id": "a0a840a8-51d6-4a9e-b37e-634b39cdbf50",
   "metadata": {
    "execution": {
     "iopub.execute_input": "2025-07-21T19:44:42.986435Z",
     "iopub.status.busy": "2025-07-21T19:44:42.985821Z",
     "iopub.status.idle": "2025-07-21T19:44:43.613510Z",
     "shell.execute_reply": "2025-07-21T19:44:43.612237Z"
    },
    "papermill": {
     "duration": 0.643746,
     "end_time": "2025-07-21T19:44:43.615654",
     "exception": false,
     "start_time": "2025-07-21T19:44:42.971908",
     "status": "completed"
    },
    "tags": []
   },
   "outputs": [],
   "source": [
    "#=======================================================  sellers ===========================================\n",
    "# الخطوة 1: تنظيف أساسي (يتم تطبيقه مباشرة على العمود الأصلي)\n",
    "sellers_cleaned = sellers.withColumn(\n",
    "    \"seller_city\",\n",
    "    lower(trim(regexp_replace(col(\"seller_city\"), \"[^a-zA-ZÀ-ÿ ]\", \"\")))\n",
    ")\n",
    "\n",
    "# الخطوة 2: تصحيح التهجئات الشائعة\n",
    "sellers_cleaned = sellers_cleaned.withColumn(\n",
    "    \"seller_city\",\n",
    "    regexp_replace(col(\"seller_city\"), \"\\\\bd['\\\\s]o\\\\b\", \" do \")\n",
    ")\n",
    "\n",
    "\n",
    "for wrong, correct in corrections.items():\n",
    "    sellers_cleaned = sellers_cleaned.withColumn(\n",
    "        \"seller_city\",\n",
    "        when(col(\"seller_city\") == wrong, correct).otherwise(col(\"seller_city\"))\n",
    ")\n"
   ]
  },
  {
   "cell_type": "code",
   "execution_count": 31,
   "id": "905a2e63-5449-47ee-9695-1f42fc83cc33",
   "metadata": {
    "execution": {
     "iopub.execute_input": "2025-07-21T19:44:43.642803Z",
     "iopub.status.busy": "2025-07-21T19:44:43.642030Z",
     "iopub.status.idle": "2025-07-21T19:44:43.657799Z",
     "shell.execute_reply": "2025-07-21T19:44:43.656482Z"
    },
    "papermill": {
     "duration": 0.032168,
     "end_time": "2025-07-21T19:44:43.660088",
     "exception": false,
     "start_time": "2025-07-21T19:44:43.627920",
     "status": "completed"
    },
    "tags": []
   },
   "outputs": [],
   "source": [
    "#=======================================================  geolocation ===========================================\n",
    "geolocation_clean = geolocation.dropna(subset=[\n",
    "    \"geolocation_zip_code_prefix\", \n",
    "    \"geolocation_lat\", \n",
    "    \"geolocation_lng\", \n",
    "    \"geolocation_city\", \n",
    "    \"geolocation_state\"\n",
    "]).dropDuplicates([\"geolocation_zip_code_prefix\", \"geolocation_city\", \"geolocation_state\"])\n"
   ]
  },
  {
   "cell_type": "code",
   "execution_count": 32,
   "id": "d976b747-8fd2-4066-b9d1-402ef5fb01d4",
   "metadata": {
    "execution": {
     "iopub.execute_input": "2025-07-21T19:44:43.693824Z",
     "iopub.status.busy": "2025-07-21T19:44:43.693470Z",
     "iopub.status.idle": "2025-07-21T19:44:43.697848Z",
     "shell.execute_reply": "2025-07-21T19:44:43.696803Z"
    },
    "papermill": {
     "duration": 0.022374,
     "end_time": "2025-07-21T19:44:43.699639",
     "exception": false,
     "start_time": "2025-07-21T19:44:43.677265",
     "status": "completed"
    },
    "scrolled": true,
    "tags": []
   },
   "outputs": [],
   "source": [
    "#tables = {\n",
    "#    \"customers_clean\": customers_clean,\n",
    "#    \"products_enriched\": products_enriched, \n",
    "#    \"orders_full_cleaned\": orders_full_cleaned,\n",
    "#    \"sellers_cleaned\": sellers_cleaned,\n",
    "#    \"geolocation_clean\": geolocation_clean\n",
    "#}\n",
    "\n",
    "#for name, df in tables.items():\n",
    "#    print(f\"\\n=== Schema for {name} ===\")\n",
    "#    df.printSchema()"
   ]
  },
  {
   "cell_type": "code",
   "execution_count": 33,
   "id": "e7d300f8-9a09-44c2-ad73-b7e9f8130217",
   "metadata": {
    "execution": {
     "iopub.execute_input": "2025-07-21T19:44:43.731083Z",
     "iopub.status.busy": "2025-07-21T19:44:43.730531Z",
     "iopub.status.idle": "2025-07-21T19:44:43.736573Z",
     "shell.execute_reply": "2025-07-21T19:44:43.735134Z"
    },
    "papermill": {
     "duration": 0.023251,
     "end_time": "2025-07-21T19:44:43.738497",
     "exception": false,
     "start_time": "2025-07-21T19:44:43.715246",
     "status": "completed"
    },
    "tags": []
   },
   "outputs": [],
   "source": [
    "#================================================================================================================\n",
    "#================================================================================================================\n",
    "#================================================================================================================\n",
    "#================================================================================================================\n",
    "#================================================================================================================\n",
    "#================================================================================================================\n",
    "#================================================================================================================"
   ]
  },
  {
   "cell_type": "code",
   "execution_count": 34,
   "id": "0ccdfcfa-f09f-4c0f-a889-0193ad1ed015",
   "metadata": {
    "execution": {
     "iopub.execute_input": "2025-07-21T19:44:43.766012Z",
     "iopub.status.busy": "2025-07-21T19:44:43.765241Z",
     "iopub.status.idle": "2025-07-21T19:44:43.787545Z",
     "shell.execute_reply": "2025-07-21T19:44:43.786043Z"
    },
    "papermill": {
     "duration": 0.038462,
     "end_time": "2025-07-21T19:44:43.789668",
     "exception": false,
     "start_time": "2025-07-21T19:44:43.751206",
     "status": "completed"
    },
    "tags": []
   },
   "outputs": [],
   "source": [
    "dim_customers = customers_clean.select(\n",
    "    \"customer_id\",\n",
    "    \"customer_unique_id\",\n",
    "    \"customer_zip_code_prefix\",\n",
    "    \"customer_city\",\n",
    "    \"customer_state\"\n",
    ").dropDuplicates([\"customer_id\"])\n"
   ]
  },
  {
   "cell_type": "code",
   "execution_count": 35,
   "id": "be2bd319-010e-4d16-9172-eeb87d02f7f1",
   "metadata": {
    "execution": {
     "iopub.execute_input": "2025-07-21T19:44:43.816868Z",
     "iopub.status.busy": "2025-07-21T19:44:43.816547Z",
     "iopub.status.idle": "2025-07-21T19:44:43.836444Z",
     "shell.execute_reply": "2025-07-21T19:44:43.834881Z"
    },
    "papermill": {
     "duration": 0.035806,
     "end_time": "2025-07-21T19:44:43.838567",
     "exception": false,
     "start_time": "2025-07-21T19:44:43.802761",
     "status": "completed"
    },
    "tags": []
   },
   "outputs": [],
   "source": [
    "dim_sellers = sellers_cleaned.select(\n",
    "    \"seller_id\",\n",
    "    \"seller_zip_code_prefix\",\n",
    "    \"seller_city\",\n",
    "    \"seller_state\"\n",
    ").dropDuplicates([\"seller_id\"])\n"
   ]
  },
  {
   "cell_type": "code",
   "execution_count": 36,
   "id": "ee166faf-4918-48e7-87a4-4d904de57b91",
   "metadata": {
    "execution": {
     "iopub.execute_input": "2025-07-21T19:44:43.865338Z",
     "iopub.status.busy": "2025-07-21T19:44:43.864719Z",
     "iopub.status.idle": "2025-07-21T19:44:43.896788Z",
     "shell.execute_reply": "2025-07-21T19:44:43.895906Z"
    },
    "papermill": {
     "duration": 0.04817,
     "end_time": "2025-07-21T19:44:43.898753",
     "exception": false,
     "start_time": "2025-07-21T19:44:43.850583",
     "status": "completed"
    },
    "tags": []
   },
   "outputs": [],
   "source": [
    "dim_products = products_enriched.select(\n",
    "    \"product_id\",\n",
    "    \"product_category_name\",\n",
    "    \"product_category_name_english\",\n",
    "    \"product_name_lenght\",\n",
    "    \"product_description_lenght\",\n",
    "    \"product_photos_qty\",\n",
    "    \"product_weight_g\",\n",
    "    \"product_length_cm\",\n",
    "    \"product_height_cm\",\n",
    "    \"product_width_cm\",\n",
    "    \"product_volume_cm3\"\n",
    ").dropDuplicates([\"product_id\"])\n"
   ]
  },
  {
   "cell_type": "code",
   "execution_count": 37,
   "id": "e1037620-8d6c-400b-b929-8b781a01e8bd",
   "metadata": {
    "execution": {
     "iopub.execute_input": "2025-07-21T19:44:43.927347Z",
     "iopub.status.busy": "2025-07-21T19:44:43.926778Z",
     "iopub.status.idle": "2025-07-21T19:44:43.932451Z",
     "shell.execute_reply": "2025-07-21T19:44:43.931038Z"
    },
    "papermill": {
     "duration": 0.021696,
     "end_time": "2025-07-21T19:44:43.934300",
     "exception": false,
     "start_time": "2025-07-21T19:44:43.912604",
     "status": "completed"
    },
    "tags": []
   },
   "outputs": [],
   "source": [
    "#dim_geolocation = geolocation_clean.select(\n",
    "#    col(\"geolocation_zip_code_prefix\").alias(\"zip_code_prefix\"),\n",
    "#    \"geolocation_lat\",\n",
    "#    \"geolocation_lng\",\n",
    "#    \"geolocation_city\",\n",
    "#    \"geolocation_state\"\n",
    "#).dropDuplicates([\"zip_code_prefix\"])\n"
   ]
  },
  {
   "cell_type": "code",
   "execution_count": 38,
   "id": "bf7716ad-fc52-4d44-9698-94b218992351",
   "metadata": {
    "execution": {
     "iopub.execute_input": "2025-07-21T19:44:43.961436Z",
     "iopub.status.busy": "2025-07-21T19:44:43.960757Z",
     "iopub.status.idle": "2025-07-21T19:44:44.683202Z",
     "shell.execute_reply": "2025-07-21T19:44:44.681999Z"
    },
    "papermill": {
     "duration": 0.738287,
     "end_time": "2025-07-21T19:44:44.685513",
     "exception": false,
     "start_time": "2025-07-21T19:44:43.947226",
     "status": "completed"
    },
    "tags": []
   },
   "outputs": [],
   "source": [
    "min_max = orders_full_cleaned.select(\n",
    "    min(\"order_purchase_timestamp\").alias(\"start\"),\n",
    "    max(\"order_purchase_timestamp\").alias(\"end\")\n",
    ").first()\n",
    "\n",
    "start_date = min_max[\"start\"].date()\n",
    "end_date = min_max[\"end\"].date()\n",
    "\n",
    "date_df = spark.sql(f\"\"\"\n",
    "    SELECT explode(sequence(to_date('{start_date}'), to_date('{end_date}'), interval 1 day)) as date_key\n",
    "\"\"\")\n",
    "\n",
    "dim_date = date_df.withColumn(\"day\", dayofmonth(\"date_key\")) \\\n",
    "                  .withColumn(\"month\", month(\"date_key\")) \\\n",
    "                  .withColumn(\"year\", year(\"date_key\")) \\\n",
    "                  .withColumn(\"day_of_week\", date_format(\"date_key\", \"E\")) \\\n",
    "                  .withColumn(\"week_of_year\", weekofyear(\"date_key\")) \\\n",
    "                  .withColumn(\"day_name\", date_format(\"date_key\", \"EEEE\")) \\\n",
    "                  .withColumn(\"month_name\", date_format(\"date_key\", \"MMMM\"))"
   ]
  },
  {
   "cell_type": "code",
   "execution_count": 39,
   "id": "4f36b004-4987-4308-a88a-59db8bcd781b",
   "metadata": {
    "execution": {
     "iopub.execute_input": "2025-07-21T19:44:44.711761Z",
     "iopub.status.busy": "2025-07-21T19:44:44.711205Z",
     "iopub.status.idle": "2025-07-21T19:44:44.766199Z",
     "shell.execute_reply": "2025-07-21T19:44:44.764836Z"
    },
    "papermill": {
     "duration": 0.070425,
     "end_time": "2025-07-21T19:44:44.768389",
     "exception": false,
     "start_time": "2025-07-21T19:44:44.697964",
     "status": "completed"
    },
    "tags": []
   },
   "outputs": [],
   "source": [
    "\n",
    "fact_orders = orders_full_cleaned.select(\n",
    "    \"order_id\",\n",
    "    \"customer_id\",\n",
    "    \"seller_id\",\n",
    "    \"product_id\",\n",
    "\n",
    "    # 🔑 تواريخ على هيئة timestamps\n",
    "    \"order_purchase_timestamp\",\n",
    "    \"shipping_limit_date\",\n",
    "    \"order_delivered_carrier_date\",\n",
    "    \"order_delivered_customer_date\",\n",
    "    \"order_estimated_delivery_date\",\n",
    "\n",
    "    # 🔢 measures\n",
    "    \"shipping_days\",\n",
    "    \"delivery_delay\",\n",
    "    \"price\",\n",
    "    \"freight_value\",\n",
    "    \"total_cost\",\n",
    "    \"total_payment\",\n",
    "    \"total_installments\",\n",
    "    \"payment_methods_count\",    # أضفناه\n",
    "    \"main_payment_type\",\n",
    "\n",
    "    # 🔍 تقييم العميل (score + sentiment فقط)\n",
    "    \"review_score\",\n",
    "    \"review_sentiment\",\n",
    "\n",
    "    # ▶️ مفاتيح التواريخ لربط dim_date\n",
    "    to_date(\"order_purchase_timestamp\").alias(\"purchase_date_key\"),\n",
    "    to_date(\"order_delivered_customer_date\").alias(\"delivered_date_key\"),\n",
    "    to_date(\"order_estimated_delivery_date\").alias(\"estimated_date_key\")\n",
    ")\n"
   ]
  },
  {
   "cell_type": "code",
   "execution_count": 40,
   "id": "b76eb949-d024-4fd6-9d67-4b69866bacfc",
   "metadata": {
    "execution": {
     "iopub.execute_input": "2025-07-21T19:44:44.798354Z",
     "iopub.status.busy": "2025-07-21T19:44:44.797819Z",
     "iopub.status.idle": "2025-07-21T19:44:44.803687Z",
     "shell.execute_reply": "2025-07-21T19:44:44.802161Z"
    },
    "papermill": {
     "duration": 0.023045,
     "end_time": "2025-07-21T19:44:44.805425",
     "exception": false,
     "start_time": "2025-07-21T19:44:44.782380",
     "status": "completed"
    },
    "scrolled": true,
    "tags": []
   },
   "outputs": [],
   "source": [
    "#tables = {\n",
    "#    \"dim_customers\": dim_customers,\n",
    "#    \"dim_sellers\": dim_sellers, \n",
    "#    \"dim_products\": dim_products,\n",
    "#    \"dim_date\": dim_date,\n",
    "#    \"fact_orders\": fact_orders\n",
    "#}\n",
    "\n",
    "#for name, df in tables.items():\n",
    "#    print(f\"\\n=== Schema for {name} ===\")\n",
    "#    df.printSchema()"
   ]
  },
  {
   "cell_type": "code",
   "execution_count": 41,
   "id": "0a95715a-ee85-4501-a83c-b10686c238ec",
   "metadata": {
    "execution": {
     "iopub.execute_input": "2025-07-21T19:44:44.836025Z",
     "iopub.status.busy": "2025-07-21T19:44:44.835430Z",
     "iopub.status.idle": "2025-07-21T19:44:44.841759Z",
     "shell.execute_reply": "2025-07-21T19:44:44.840354Z"
    },
    "papermill": {
     "duration": 0.024147,
     "end_time": "2025-07-21T19:44:44.843660",
     "exception": false,
     "start_time": "2025-07-21T19:44:44.819513",
     "status": "completed"
    },
    "tags": []
   },
   "outputs": [],
   "source": [
    "#===================================================================================================================\n",
    "#===================================================================================================================\n",
    "#===================================================================================================================\n",
    "#===================================================================================================================\n",
    "#===================================================================================================================\n",
    "#===================================================================================================================\n",
    "#==================================================================================================================="
   ]
  },
  {
   "cell_type": "code",
   "execution_count": null,
   "id": "090da55c-d818-4fd0-9754-91fb989e2216",
   "metadata": {
    "papermill": {
     "duration": 0.012554,
     "end_time": "2025-07-21T19:44:44.870312",
     "exception": false,
     "start_time": "2025-07-21T19:44:44.857758",
     "status": "completed"
    },
    "tags": []
   },
   "outputs": [],
   "source": []
  },
  {
   "cell_type": "code",
   "execution_count": 42,
   "id": "e2675e54-fb98-4d7f-a1e3-1ae40a0e6ab0",
   "metadata": {
    "execution": {
     "iopub.execute_input": "2025-07-21T19:44:44.897845Z",
     "iopub.status.busy": "2025-07-21T19:44:44.896969Z",
     "iopub.status.idle": "2025-07-21T19:44:44.905001Z",
     "shell.execute_reply": "2025-07-21T19:44:44.903699Z"
    },
    "papermill": {
     "duration": 0.02418,
     "end_time": "2025-07-21T19:44:44.906600",
     "exception": false,
     "start_time": "2025-07-21T19:44:44.882420",
     "status": "completed"
    },
    "tags": []
   },
   "outputs": [],
   "source": [
    "clickhouse_url = \"jdbc:clickhouse://clickhouse:8123/ecommerce\"\n",
    "clickhouse_properties = {\n",
    "    \"user\": \"default\",\n",
    "    \"password\": \"123\",\n",
    "    \"driver\": \"com.clickhouse.jdbc.ClickHouseDriver\"\n",
    "}"
   ]
  },
  {
   "cell_type": "code",
   "execution_count": 43,
   "id": "4533a3f6-d981-4ab9-96cd-86647e122158",
   "metadata": {
    "execution": {
     "iopub.execute_input": "2025-07-21T19:44:44.933755Z",
     "iopub.status.busy": "2025-07-21T19:44:44.933162Z",
     "iopub.status.idle": "2025-07-21T19:44:54.023951Z",
     "shell.execute_reply": "2025-07-21T19:44:54.023010Z"
    },
    "papermill": {
     "duration": 9.105585,
     "end_time": "2025-07-21T19:44:54.025424",
     "exception": false,
     "start_time": "2025-07-21T19:44:44.919839",
     "status": "completed"
    },
    "tags": []
   },
   "outputs": [
    {
     "name": "stderr",
     "output_type": "stream",
     "text": [
      "\r",
      "[Stage 28:>                                                         (0 + 1) / 1]\r"
     ]
    },
    {
     "name": "stderr",
     "output_type": "stream",
     "text": [
      "25/07/21 19:44:46 WARN ClickHouseConnectionImpl: [JDBC Compliant Mode] Transaction is not supported. You may change jdbcCompliant to false to throw SQLException instead.\n",
      "25/07/21 19:44:46 WARN ClickHouseConnectionImpl: [JDBC Compliant Mode] Transaction is not supported. You may change jdbcCompliant to false to throw SQLException instead.\n",
      "25/07/21 19:44:46 WARN ClickHouseConnectionImpl: [JDBC Compliant Mode] Transaction is not supported. You may change jdbcCompliant to false to throw SQLException instead.\n",
      "25/07/21 19:44:46 WARN ClickHouseConnectionImpl: [JDBC Compliant Mode] Transaction is not supported. You may change jdbcCompliant to false to throw SQLException instead.\n",
      "25/07/21 19:44:46 WARN ClickHouseConnectionImpl: [JDBC Compliant Mode] Transaction is not supported. You may change jdbcCompliant to false to throw SQLException instead.\n",
      "25/07/21 19:44:46 WARN ClickHouseConnectionImpl: [JDBC Compliant Mode] Transaction is not supported. You may change jdbcCompliant to false to throw SQLException instead.\n",
      "25/07/21 19:44:46 WARN ClickHouseConnectionImpl: [JDBC Compliant Mode] Transaction is not supported. You may change jdbcCompliant to false to throw SQLException instead.\n",
      "25/07/21 19:44:46 WARN ClickHouseConnectionImpl: [JDBC Compliant Mode] Transaction is not supported. You may change jdbcCompliant to false to throw SQLException instead.\n"
     ]
    },
    {
     "name": "stderr",
     "output_type": "stream",
     "text": [
      "\r",
      "[Stage 30:>                                                         (0 + 8) / 8]\r",
      "25/07/21 19:44:47 WARN ClickHouseConnectionImpl: [JDBC Compliant Mode] Transaction is not supported. You may change jdbcCompliant to false to throw SQLException instead.\n",
      "25/07/21 19:44:47 WARN ClickHouseConnectionImpl: [JDBC Compliant Mode] Transaction [c2c7ef73-0c92-4e80-a8d9-bb4efabb3b98] (10 queries & 0 savepoints) is committed.\n",
      "25/07/21 19:44:47 WARN ClickHouseConnectionImpl: [JDBC Compliant Mode] Transaction [63f2ce61-b03b-45e1-94fa-40857af03672] (0 queries & 0 savepoints) is committed.\n",
      "25/07/21 19:44:47 WARN ClickHouseConnectionImpl: [JDBC Compliant Mode] Transaction is not supported. You may change jdbcCompliant to false to throw SQLException instead.\n",
      "25/07/21 19:44:47 WARN ClickHouseConnectionImpl: [JDBC Compliant Mode] Transaction [91e6e8a2-41e6-4d2f-8070-50a901c0a5a6] (10 queries & 0 savepoints) is committed.\n",
      "25/07/21 19:44:47 WARN ClickHouseConnectionImpl: [JDBC Compliant Mode] Transaction [984e7796-77fb-4976-9ae7-ea96fdcc97b6] (0 queries & 0 savepoints) is committed.\n",
      "25/07/21 19:44:47 WARN ClickHouseConnectionImpl: [JDBC Compliant Mode] Transaction is not supported. You may change jdbcCompliant to false to throw SQLException instead.\n",
      "25/07/21 19:44:47 WARN ClickHouseConnectionImpl: [JDBC Compliant Mode] Transaction [f317ba2f-6c53-4b7a-943e-da5ae6dc1299] (10 queries & 0 savepoints) is committed.\n",
      "25/07/21 19:44:47 WARN ClickHouseConnectionImpl: [JDBC Compliant Mode] Transaction [d2d5dc40-6cbc-4ede-aef3-d3c4414d078b] (0 queries & 0 savepoints) is committed.\n",
      "25/07/21 19:44:47 WARN ClickHouseConnectionImpl: [JDBC Compliant Mode] Transaction is not supported. You may change jdbcCompliant to false to throw SQLException instead.\n",
      "25/07/21 19:44:47 WARN ClickHouseConnectionImpl: [JDBC Compliant Mode] Transaction [7d7d74a6-1e6f-431f-bd3f-202c6e4f184b] (10 queries & 0 savepoints) is committed.\n",
      "25/07/21 19:44:47 WARN ClickHouseConnectionImpl: [JDBC Compliant Mode] Transaction [ed4a495e-284d-46b8-a55f-ae0e7ae70156] (0 queries & 0 savepoints) is committed.\n",
      "25/07/21 19:44:47 WARN ClickHouseConnectionImpl: [JDBC Compliant Mode] Transaction is not supported. You may change jdbcCompliant to false to throw SQLException instead.\n",
      "25/07/21 19:44:47 WARN ClickHouseConnectionImpl: [JDBC Compliant Mode] Transaction [987532db-d4ac-42b2-a185-c0ef6f066c3a] (11 queries & 0 savepoints) is committed.\n",
      "25/07/21 19:44:47 WARN ClickHouseConnectionImpl: [JDBC Compliant Mode] Transaction [10a868cb-a917-436a-be61-2f337b2948ee] (0 queries & 0 savepoints) is committed.\n",
      "25/07/21 19:44:47 WARN ClickHouseConnectionImpl: [JDBC Compliant Mode] Transaction is not supported. You may change jdbcCompliant to false to throw SQLException instead.\n",
      "25/07/21 19:44:47 WARN ClickHouseConnectionImpl: [JDBC Compliant Mode] Transaction [d33e8af8-162c-498f-bbb4-4841235ed4d9] (10 queries & 0 savepoints) is committed.\n",
      "25/07/21 19:44:47 WARN ClickHouseConnectionImpl: [JDBC Compliant Mode] Transaction [9522036c-afbe-4a88-836e-8df39eb9d744] (0 queries & 0 savepoints) is committed.\n",
      "25/07/21 19:44:47 WARN ClickHouseConnectionImpl: [JDBC Compliant Mode] Transaction is not supported. You may change jdbcCompliant to false to throw SQLException instead.\n",
      "25/07/21 19:44:47 WARN ClickHouseConnectionImpl: [JDBC Compliant Mode] Transaction [6fd00f38-72c1-4915-9f82-fbb2d309e157] (10 queries & 0 savepoints) is committed.\n",
      "25/07/21 19:44:47 WARN ClickHouseConnectionImpl: [JDBC Compliant Mode] Transaction [458b5c53-f5b3-4652-8749-2e1c5cf93d92] (0 queries & 0 savepoints) is committed.\n",
      "\r",
      "[Stage 30:==================================================>       (7 + 1) / 8]\r"
     ]
    },
    {
     "name": "stderr",
     "output_type": "stream",
     "text": [
      "25/07/21 19:44:47 WARN ClickHouseConnectionImpl: [JDBC Compliant Mode] Transaction is not supported. You may change jdbcCompliant to false to throw SQLException instead.\n",
      "25/07/21 19:44:47 WARN ClickHouseConnectionImpl: [JDBC Compliant Mode] Transaction [cc7a6191-1eec-4e70-b502-eadcdab8371c] (16 queries & 0 savepoints) is committed.\n",
      "25/07/21 19:44:47 WARN ClickHouseConnectionImpl: [JDBC Compliant Mode] Transaction [e3b4cf56-0e85-456e-a7f5-e9ad44b4152d] (0 queries & 0 savepoints) is committed.\n",
      "\r",
      "                                                                                \r"
     ]
    },
    {
     "name": "stderr",
     "output_type": "stream",
     "text": [
      "25/07/21 19:44:48 WARN ClickHouseConnectionImpl: [JDBC Compliant Mode] Transaction is not supported. You may change jdbcCompliant to false to throw SQLException instead.\n",
      "25/07/21 19:44:48 WARN ClickHouseConnectionImpl: [JDBC Compliant Mode] Transaction is not supported. You may change jdbcCompliant to false to throw SQLException instead.\n",
      "25/07/21 19:44:48 WARN ClickHouseConnectionImpl: [JDBC Compliant Mode] Transaction [dbf2b26c-32e6-402f-b3b6-ff7c2b72a23f] (5 queries & 0 savepoints) is committed.\n",
      "25/07/21 19:44:48 WARN ClickHouseConnectionImpl: [JDBC Compliant Mode] Transaction [7ecb905a-1572-450a-ad30-858d2b554e2d] (0 queries & 0 savepoints) is committed.\n"
     ]
    },
    {
     "name": "stderr",
     "output_type": "stream",
     "text": [
      "25/07/21 19:44:49 WARN ClickHouseConnectionImpl: [JDBC Compliant Mode] Transaction is not supported. You may change jdbcCompliant to false to throw SQLException instead.\n",
      "25/07/21 19:44:49 WARN ClickHouseConnectionImpl: [JDBC Compliant Mode] Transaction is not supported. You may change jdbcCompliant to false to throw SQLException instead.\n",
      "25/07/21 19:44:49 WARN ClickHouseConnectionImpl: [JDBC Compliant Mode] Transaction is not supported. You may change jdbcCompliant to false to throw SQLException instead.\n"
     ]
    },
    {
     "name": "stderr",
     "output_type": "stream",
     "text": [
      "25/07/21 19:44:49 WARN ClickHouseConnectionImpl: [JDBC Compliant Mode] Transaction is not supported. You may change jdbcCompliant to false to throw SQLException instead.\n",
      "25/07/21 19:44:49 WARN ClickHouseConnectionImpl: [JDBC Compliant Mode] Transaction [0fc9842a-4519-45a5-a983-0599a93ca740] (12 queries & 0 savepoints) is committed.\n",
      "25/07/21 19:44:49 WARN ClickHouseConnectionImpl: [JDBC Compliant Mode] Transaction [def0584f-1d65-4cc7-89b5-3f3eb73ebb84] (0 queries & 0 savepoints) is committed.\n",
      "25/07/21 19:44:49 WARN ClickHouseConnectionImpl: [JDBC Compliant Mode] Transaction is not supported. You may change jdbcCompliant to false to throw SQLException instead.\n",
      "25/07/21 19:44:49 WARN ClickHouseConnectionImpl: [JDBC Compliant Mode] Transaction [bf499a4a-4504-45a7-8f63-5f6b132a1845] (12 queries & 0 savepoints) is committed.\n",
      "25/07/21 19:44:49 WARN ClickHouseConnectionImpl: [JDBC Compliant Mode] Transaction [a5c9d853-fbed-4a1b-abe1-c1b22162252f] (0 queries & 0 savepoints) is committed.\n",
      "25/07/21 19:44:49 WARN ClickHouseConnectionImpl: [JDBC Compliant Mode] Transaction is not supported. You may change jdbcCompliant to false to throw SQLException instead.\n",
      "25/07/21 19:44:49 WARN ClickHouseConnectionImpl: [JDBC Compliant Mode] Transaction [6c5a6445-bb52-411a-90f0-f3b9af1bf98a] (13 queries & 0 savepoints) is committed.\n",
      "25/07/21 19:44:49 WARN ClickHouseConnectionImpl: [JDBC Compliant Mode] Transaction [419d7415-3d1a-41ba-8df4-490c13db10af] (0 queries & 0 savepoints) is committed.\n"
     ]
    },
    {
     "name": "stderr",
     "output_type": "stream",
     "text": [
      "25/07/21 19:44:50 WARN ClickHouseConnectionImpl: [JDBC Compliant Mode] Transaction is not supported. You may change jdbcCompliant to false to throw SQLException instead.\n",
      "25/07/21 19:44:50 WARN ClickHouseConnectionImpl: [JDBC Compliant Mode] Transaction is not supported. You may change jdbcCompliant to false to throw SQLException instead.\n",
      "25/07/21 19:44:50 WARN ClickHouseConnectionImpl: [JDBC Compliant Mode] Transaction [667101fe-c753-4e46-8630-b719e35416eb] (2 queries & 0 savepoints) is committed.\n",
      "25/07/21 19:44:50 WARN ClickHouseConnectionImpl: [JDBC Compliant Mode] Transaction [7e99a5ad-e111-4701-9c3a-d6a6a0b9e575] (0 queries & 0 savepoints) is committed.\n",
      "25/07/21 19:44:50 WARN SparkStringUtils: Truncated the string representation of a plan since it was too large. This behavior can be adjusted by setting 'spark.sql.debug.maxToStringFields'.\n"
     ]
    },
    {
     "name": "stderr",
     "output_type": "stream",
     "text": [
      "\r",
      "[Stage 44:>   (0 + 1) / 1][Stage 45:>   (0 + 1) / 1][Stage 46:>   (0 + 1) / 1]\r"
     ]
    },
    {
     "name": "stderr",
     "output_type": "stream",
     "text": [
      "\r",
      "                                                                                \r"
     ]
    },
    {
     "name": "stderr",
     "output_type": "stream",
     "text": [
      "25/07/21 19:44:53 WARN ClickHouseConnectionImpl: [JDBC Compliant Mode] Transaction is not supported. You may change jdbcCompliant to false to throw SQLException instead.\n",
      "25/07/21 19:44:53 WARN ClickHouseConnectionImpl: [JDBC Compliant Mode] Transaction is not supported. You may change jdbcCompliant to false to throw SQLException instead.\n",
      "25/07/21 19:44:53 WARN ClickHouseConnectionImpl: [JDBC Compliant Mode] Transaction is not supported. You may change jdbcCompliant to false to throw SQLException instead.\n",
      "25/07/21 19:44:53 WARN ClickHouseConnectionImpl: [JDBC Compliant Mode] Transaction is not supported. You may change jdbcCompliant to false to throw SQLException instead.\n",
      "25/07/21 19:44:53 WARN ClickHouseConnectionImpl: [JDBC Compliant Mode] Transaction is not supported. You may change jdbcCompliant to false to throw SQLException instead.\n",
      "25/07/21 19:44:53 WARN ClickHouseConnectionImpl: [JDBC Compliant Mode] Transaction is not supported. You may change jdbcCompliant to false to throw SQLException instead.\n",
      "25/07/21 19:44:53 WARN ClickHouseConnectionImpl: [JDBC Compliant Mode] Transaction is not supported. You may change jdbcCompliant to false to throw SQLException instead.\n",
      "25/07/21 19:44:53 WARN ClickHouseConnectionImpl: [JDBC Compliant Mode] Transaction is not supported. You may change jdbcCompliant to false to throw SQLException instead.\n",
      "25/07/21 19:44:53 WARN ClickHouseConnectionImpl: [JDBC Compliant Mode] Transaction is not supported. You may change jdbcCompliant to false to throw SQLException instead.\n",
      "25/07/21 19:44:53 WARN ClickHouseConnectionImpl: [JDBC Compliant Mode] Transaction is not supported. You may change jdbcCompliant to false to throw SQLException instead.\n",
      "25/07/21 19:44:53 WARN ClickHouseConnectionImpl: [JDBC Compliant Mode] Transaction is not supported. You may change jdbcCompliant to false to throw SQLException instead.\n",
      "25/07/21 19:44:53 WARN ClickHouseConnectionImpl: [JDBC Compliant Mode] Transaction is not supported. You may change jdbcCompliant to false to throw SQLException instead.\n",
      "25/07/21 19:44:53 WARN ClickHouseConnectionImpl: [JDBC Compliant Mode] Transaction is not supported. You may change jdbcCompliant to false to throw SQLException instead.\n",
      "25/07/21 19:44:53 WARN ClickHouseConnectionImpl: [JDBC Compliant Mode] Transaction is not supported. You may change jdbcCompliant to false to throw SQLException instead.\n",
      "25/07/21 19:44:53 WARN ClickHouseConnectionImpl: [JDBC Compliant Mode] Transaction is not supported. You may change jdbcCompliant to false to throw SQLException instead.\n",
      "25/07/21 19:44:53 WARN ClickHouseConnectionImpl: [JDBC Compliant Mode] Transaction is not supported. You may change jdbcCompliant to false to throw SQLException instead.\n",
      "25/07/21 19:44:53 WARN ClickHouseConnectionImpl: [JDBC Compliant Mode] Transaction is not supported. You may change jdbcCompliant to false to throw SQLException instead.\n",
      "25/07/21 19:44:53 WARN ClickHouseConnectionImpl: [JDBC Compliant Mode] Transaction is not supported. You may change jdbcCompliant to false to throw SQLException instead.\n",
      "25/07/21 19:44:53 WARN ClickHouseConnectionImpl: [JDBC Compliant Mode] Transaction is not supported. You may change jdbcCompliant to false to throw SQLException instead.\n",
      "25/07/21 19:44:53 WARN ClickHouseConnectionImpl: [JDBC Compliant Mode] Transaction is not supported. You may change jdbcCompliant to false to throw SQLException instead.\n"
     ]
    },
    {
     "name": "stderr",
     "output_type": "stream",
     "text": [
      "\r",
      "[Stage 57:>                                                       (0 + 20) / 20]\r"
     ]
    },
    {
     "name": "stderr",
     "output_type": "stream",
     "text": [
      "25/07/21 19:44:53 WARN ClickHouseConnectionImpl: [JDBC Compliant Mode] Transaction is not supported. You may change jdbcCompliant to false to throw SQLException instead.\n",
      "25/07/21 19:44:53 WARN ClickHouseConnectionImpl: [JDBC Compliant Mode] Transaction [c6a80ea3-10a9-448e-bb92-73ee0ac9eb13] (7 queries & 0 savepoints) is committed.\n",
      "25/07/21 19:44:53 WARN ClickHouseConnectionImpl: [JDBC Compliant Mode] Transaction [e263ea2a-444a-47a9-9c79-6c72e66371f4] (0 queries & 0 savepoints) is committed.\n",
      "25/07/21 19:44:53 WARN ClickHouseConnectionImpl: [JDBC Compliant Mode] Transaction is not supported. You may change jdbcCompliant to false to throw SQLException instead.\n",
      "25/07/21 19:44:53 WARN ClickHouseConnectionImpl: [JDBC Compliant Mode] Transaction [f6e17829-f9ff-4b38-9a37-431155ae92c0] (7 queries & 0 savepoints) is committed.\n",
      "25/07/21 19:44:53 WARN ClickHouseConnectionImpl: [JDBC Compliant Mode] Transaction [1dbe0f8b-8822-435a-a02a-bbc92830d623] (0 queries & 0 savepoints) is committed.\n",
      "25/07/21 19:44:53 WARN ClickHouseConnectionImpl: [JDBC Compliant Mode] Transaction is not supported. You may change jdbcCompliant to false to throw SQLException instead.\n",
      "25/07/21 19:44:53 WARN ClickHouseConnectionImpl: [JDBC Compliant Mode] Transaction [885becb0-bdb0-46f8-a747-9f3ca81a03a1] (7 queries & 0 savepoints) is committed.\n",
      "25/07/21 19:44:53 WARN ClickHouseConnectionImpl: [JDBC Compliant Mode] Transaction [e4f69807-59df-4537-b742-2e3fbb2bb52d] (0 queries & 0 savepoints) is committed.\n",
      "25/07/21 19:44:53 WARN ClickHouseConnectionImpl: [JDBC Compliant Mode] Transaction is not supported. You may change jdbcCompliant to false to throw SQLException instead.\n",
      "25/07/21 19:44:53 WARN ClickHouseConnectionImpl: [JDBC Compliant Mode] Transaction [66d3d90b-d6b9-462d-b48d-59a4fcb90650] (7 queries & 0 savepoints) is committed.\n",
      "25/07/21 19:44:53 WARN ClickHouseConnectionImpl: [JDBC Compliant Mode] Transaction [d9dcb337-e2a5-4041-8169-7f79b8d3ebd4] (0 queries & 0 savepoints) is committed.\n",
      "25/07/21 19:44:53 WARN ClickHouseConnectionImpl: [JDBC Compliant Mode] Transaction is not supported. You may change jdbcCompliant to false to throw SQLException instead.\n",
      "25/07/21 19:44:53 WARN ClickHouseConnectionImpl: [JDBC Compliant Mode] Transaction [ba6cc2fe-bdea-43b3-a54d-09bef6ef980a] (7 queries & 0 savepoints) is committed.\n",
      "25/07/21 19:44:53 WARN ClickHouseConnectionImpl: [JDBC Compliant Mode] Transaction is not supported. You may change jdbcCompliant to false to throw SQLException instead.\n",
      "25/07/21 19:44:53 WARN ClickHouseConnectionImpl: [JDBC Compliant Mode] Transaction [69ead25f-0d75-482a-bb39-1ea4c0659e88] (7 queries & 0 savepoints) is committed.\n",
      "25/07/21 19:44:53 WARN ClickHouseConnectionImpl: [JDBC Compliant Mode] Transaction [c472f060-8b6c-4e23-8dc4-a9358b192548] (0 queries & 0 savepoints) is committed.\n",
      "25/07/21 19:44:53 WARN ClickHouseConnectionImpl: [JDBC Compliant Mode] Transaction [cd169653-f6e2-47cc-9e74-6872267d7ea4] (0 queries & 0 savepoints) is committed.\n",
      "25/07/21 19:44:53 WARN ClickHouseConnectionImpl: [JDBC Compliant Mode] Transaction is not supported. You may change jdbcCompliant to false to throw SQLException instead.\n",
      "25/07/21 19:44:53 WARN ClickHouseConnectionImpl: [JDBC Compliant Mode] Transaction is not supported. You may change jdbcCompliant to false to throw SQLException instead.\n",
      "25/07/21 19:44:53 WARN ClickHouseConnectionImpl: [JDBC Compliant Mode] Transaction is not supported. You may change jdbcCompliant to false to throw SQLException instead.\n",
      "25/07/21 19:44:53 WARN ClickHouseConnectionImpl: [JDBC Compliant Mode] Transaction [85ef6779-7d7a-46db-becb-6c1091815901] (7 queries & 0 savepoints) is committed.\n",
      "25/07/21 19:44:53 WARN ClickHouseConnectionImpl: [JDBC Compliant Mode] Transaction [f5806e1e-2114-4777-ba49-d8b7f9260a67] (0 queries & 0 savepoints) is committed.\n",
      "25/07/21 19:44:53 WARN ClickHouseConnectionImpl: [JDBC Compliant Mode] Transaction [d6c53f99-7bfc-4a6c-883e-e7058b956f4e] (7 queries & 0 savepoints) is committed.\n",
      "25/07/21 19:44:53 WARN ClickHouseConnectionImpl: [JDBC Compliant Mode] Transaction [5cd9e04d-5f5b-4c36-a3e2-ce18e89b3523] (7 queries & 0 savepoints) is committed.\n",
      "25/07/21 19:44:53 WARN ClickHouseConnectionImpl: [JDBC Compliant Mode] Transaction [16195a77-223f-43b1-b5aa-f66db74f76a9] (0 queries & 0 savepoints) is committed.\n",
      "25/07/21 19:44:53 WARN ClickHouseConnectionImpl: [JDBC Compliant Mode] Transaction [823ff8e4-e06f-425c-9729-73bde23efb58] (0 queries & 0 savepoints) is committed.\n",
      "25/07/21 19:44:53 WARN ClickHouseConnectionImpl: [JDBC Compliant Mode] Transaction is not supported. You may change jdbcCompliant to false to throw SQLException instead.\n",
      "25/07/21 19:44:53 WARN ClickHouseConnectionImpl: [JDBC Compliant Mode] Transaction [bc1defe5-ebbf-4db1-8f75-1ecdae4dbde0] (7 queries & 0 savepoints) is committed.\n",
      "25/07/21 19:44:53 WARN ClickHouseConnectionImpl: [JDBC Compliant Mode] Transaction [320cc882-8b81-43d8-a58c-e8986dd2017d] (0 queries & 0 savepoints) is committed.\n",
      "25/07/21 19:44:53 WARN ClickHouseConnectionImpl: [JDBC Compliant Mode] Transaction is not supported. You may change jdbcCompliant to false to throw SQLException instead.\n",
      "25/07/21 19:44:53 WARN ClickHouseConnectionImpl: [JDBC Compliant Mode] Transaction [de42084a-cf5d-4a34-a19e-d821a553a173] (7 queries & 0 savepoints) is committed.\n",
      "25/07/21 19:44:53 WARN ClickHouseConnectionImpl: [JDBC Compliant Mode] Transaction [2308ed99-56f6-4b2a-90be-48d576bfbc3c] (0 queries & 0 savepoints) is committed.\n",
      "25/07/21 19:44:53 WARN ClickHouseConnectionImpl: [JDBC Compliant Mode] Transaction is not supported. You may change jdbcCompliant to false to throw SQLException instead.\n",
      "25/07/21 19:44:53 WARN ClickHouseConnectionImpl: [JDBC Compliant Mode] Transaction is not supported. You may change jdbcCompliant to false to throw SQLException instead.\n",
      "25/07/21 19:44:53 WARN ClickHouseConnectionImpl: [JDBC Compliant Mode] Transaction [7ac59b03-0cc1-49d5-b5ae-6f06cb70d80e] (7 queries & 0 savepoints) is committed.\n",
      "25/07/21 19:44:53 WARN ClickHouseConnectionImpl: [JDBC Compliant Mode] Transaction [f90bec05-22c7-4510-862b-b73b01eb8745] (7 queries & 0 savepoints) is committed.\n",
      "25/07/21 19:44:53 WARN ClickHouseConnectionImpl: [JDBC Compliant Mode] Transaction [67d504dd-dbee-4480-b2e5-6c40759d460b] (0 queries & 0 savepoints) is committed.\n",
      "25/07/21 19:44:53 WARN ClickHouseConnectionImpl: [JDBC Compliant Mode] Transaction [c84d6d23-9fca-4709-85fb-17e7d99a6ed3] (0 queries & 0 savepoints) is committed.\n",
      "25/07/21 19:44:53 WARN ClickHouseConnectionImpl: [JDBC Compliant Mode] Transaction is not supported. You may change jdbcCompliant to false to throw SQLException instead.\n",
      "25/07/21 19:44:53 WARN ClickHouseConnectionImpl: [JDBC Compliant Mode] Transaction is not supported. You may change jdbcCompliant to false to throw SQLException instead.\n",
      "25/07/21 19:44:53 WARN ClickHouseConnectionImpl: [JDBC Compliant Mode] Transaction [455d8e12-36a7-4f75-a7aa-6f9aae10ff6a] (7 queries & 0 savepoints) is committed.\n",
      "25/07/21 19:44:53 WARN ClickHouseConnectionImpl: [JDBC Compliant Mode] Transaction [866e0388-79cf-4626-b0dd-2288f7656954] (7 queries & 0 savepoints) is committed.\n",
      "25/07/21 19:44:53 WARN ClickHouseConnectionImpl: [JDBC Compliant Mode] Transaction [60e1341a-de70-44f1-b057-d730ce9be09a] (0 queries & 0 savepoints) is committed.\n",
      "25/07/21 19:44:53 WARN ClickHouseConnectionImpl: [JDBC Compliant Mode] Transaction [f62870e8-33e0-4fde-843e-02eff0de77c5] (0 queries & 0 savepoints) is committed.\n",
      "25/07/21 19:44:53 WARN ClickHouseConnectionImpl: [JDBC Compliant Mode] Transaction is not supported. You may change jdbcCompliant to false to throw SQLException instead.\n",
      "25/07/21 19:44:53 WARN ClickHouseConnectionImpl: [JDBC Compliant Mode] Transaction [2743cd0d-b4ad-4ec4-b5b6-1dff7c1dec06] (7 queries & 0 savepoints) is committed.\n",
      "25/07/21 19:44:53 WARN ClickHouseConnectionImpl: [JDBC Compliant Mode] Transaction [fc8d2812-f2d1-4468-aa65-b4a6b2b00c1b] (0 queries & 0 savepoints) is committed.\n",
      "25/07/21 19:44:53 WARN ClickHouseConnectionImpl: [JDBC Compliant Mode] Transaction is not supported. You may change jdbcCompliant to false to throw SQLException instead.\n",
      "25/07/21 19:44:53 WARN ClickHouseConnectionImpl: [JDBC Compliant Mode] Transaction [2caac38e-75bb-4ac3-b320-2ad0b9f153f9] (7 queries & 0 savepoints) is committed.\n",
      "25/07/21 19:44:53 WARN ClickHouseConnectionImpl: [JDBC Compliant Mode] Transaction [df9a1133-eebd-4fcf-86f6-3587d94b4e83] (0 queries & 0 savepoints) is committed.\n",
      "25/07/21 19:44:53 WARN ClickHouseConnectionImpl: [JDBC Compliant Mode] Transaction is not supported. You may change jdbcCompliant to false to throw SQLException instead.\n",
      "25/07/21 19:44:53 WARN ClickHouseConnectionImpl: [JDBC Compliant Mode] Transaction [b73bd502-44c2-4023-a37e-90ccde0b9671] (7 queries & 0 savepoints) is committed.\n",
      "25/07/21 19:44:53 WARN ClickHouseConnectionImpl: [JDBC Compliant Mode] Transaction [7870b0e1-1a0e-4207-8a0f-2787d1af675f] (0 queries & 0 savepoints) is committed.\n",
      "25/07/21 19:44:53 WARN ClickHouseConnectionImpl: [JDBC Compliant Mode] Transaction is not supported. You may change jdbcCompliant to false to throw SQLException instead.\n",
      "25/07/21 19:44:53 WARN ClickHouseConnectionImpl: [JDBC Compliant Mode] Transaction [1b2ee06a-c464-4b23-b4cd-8a48035c56d1] (7 queries & 0 savepoints) is committed.\n",
      "25/07/21 19:44:53 WARN ClickHouseConnectionImpl: [JDBC Compliant Mode] Transaction [add16f7c-2d00-4faa-834a-7f48f22ab92f] (0 queries & 0 savepoints) is committed.\n",
      "25/07/21 19:44:53 WARN ClickHouseConnectionImpl: [JDBC Compliant Mode] Transaction is not supported. You may change jdbcCompliant to false to throw SQLException instead.\n",
      "25/07/21 19:44:53 WARN ClickHouseConnectionImpl: [JDBC Compliant Mode] Transaction [41f9bfce-8a54-470d-af13-4f5cf8401bd7] (7 queries & 0 savepoints) is committed.\n",
      "25/07/21 19:44:53 WARN ClickHouseConnectionImpl: [JDBC Compliant Mode] Transaction [e813735c-93ee-48f2-aa75-c3a4a2fe0b0f] (0 queries & 0 savepoints) is committed.\n",
      "\r",
      "                                                                                \r"
     ]
    }
   ],
   "source": [
    "dim_customers.write.jdbc(clickhouse_url, \"dim_customers\", mode=\"append\", properties=clickhouse_properties)\n",
    "dim_sellers.write.jdbc(clickhouse_url, \"dim_sellers\", mode=\"append\", properties=clickhouse_properties)\n",
    "dim_products.write.jdbc(clickhouse_url, \"dim_products\", mode=\"append\", properties=clickhouse_properties)\n",
    "dim_date.write.jdbc(clickhouse_url, \"dim_date\", mode=\"append\", properties=clickhouse_properties)\n",
    "fact_orders.write.jdbc(clickhouse_url, \"fact_orders\", mode=\"append\", properties=clickhouse_properties)\n"
   ]
  },
  {
   "cell_type": "code",
   "execution_count": null,
   "id": "d6ec28ed-332d-44b4-a53a-b3c38b2644c7",
   "metadata": {
    "papermill": {
     "duration": 0.011622,
     "end_time": "2025-07-21T19:44:54.049041",
     "exception": false,
     "start_time": "2025-07-21T19:44:54.037419",
     "status": "completed"
    },
    "tags": []
   },
   "outputs": [],
   "source": []
  },
  {
   "cell_type": "code",
   "execution_count": null,
   "id": "28fe5598-87fa-4bfa-bde9-7eca0d829d09",
   "metadata": {
    "papermill": {
     "duration": 0.011556,
     "end_time": "2025-07-21T19:44:54.073326",
     "exception": false,
     "start_time": "2025-07-21T19:44:54.061770",
     "status": "completed"
    },
    "tags": []
   },
   "outputs": [],
   "source": []
  }
 ],
 "metadata": {
  "kernelspec": {
   "display_name": "Python 3 (ipykernel)",
   "language": "python",
   "name": "python3"
  },
  "language_info": {
   "codemirror_mode": {
    "name": "ipython",
    "version": 3
   },
   "file_extension": ".py",
   "mimetype": "text/x-python",
   "name": "python",
   "nbconvert_exporter": "python",
   "pygments_lexer": "ipython3",
   "version": "3.10.14"
  },
  "papermill": {
   "default_parameters": {},
   "duration": 44.228841,
   "end_time": "2025-07-21T19:44:56.707043",
   "environment_variables": {},
   "exception": null,
   "input_path": "/opt/airflow/dags/notebooks/ecommerce_etl_job.ipynb",
   "output_path": "/opt/airflow/dags/notebooks/ecommerce_output.ipynb",
   "parameters": {},
   "start_time": "2025-07-21T19:44:12.478202",
   "version": "2.6.0"
  }
 },
 "nbformat": 4,
 "nbformat_minor": 5
}