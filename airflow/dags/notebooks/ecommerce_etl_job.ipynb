{
 "cells": [
  {
   "cell_type": "code",
   "execution_count": 1,
   "id": "f4224b9e-d5be-4f98-998e-9423d3ab12ca",
   "metadata": {},
   "outputs": [],
   "source": [
    "from pyspark.sql import SparkSession\n",
    "from pyspark.sql.functions import *"
   ]
  },
  {
   "cell_type": "code",
   "execution_count": null,
   "id": "e48e5047-a4df-4af0-b37f-7da274b5df58",
   "metadata": {},
   "outputs": [
    {
     "name": "stderr",
     "output_type": "stream",
     "text": [
      "Setting default log level to \"WARN\".\n",
      "To adjust logging level use sc.setLogLevel(newLevel). For SparkR, use setLogLevel(newLevel).\n",
      "25/07/21 06:08:25 WARN NativeCodeLoader: Unable to load native-hadoop library for your platform... using builtin-java classes where applicable\n"
     ]
    }
   ],
   "source": [
    "\n",
    "spark = SparkSession.builder \\\n",
    "    .appName(\"ecommerce-etl\") \\\n",
    "    .config(\"spark.jars.packages\", \"mysql:mysql-connector-java:8.0.33,com.clickhouse:clickhouse-jdbc:0.4.6\") \\\n",
    "    .getOrCreate()\n"
   ]
  },
  {
   "cell_type": "code",
   "execution_count": 3,
   "id": "fc1c809f-14a3-40ed-a0f6-43fb43ef65ad",
   "metadata": {},
   "outputs": [],
   "source": [
    "# إعداد الاتصال بقاعدة بيانات MySQL\n",
    "mysql_url = \"jdbc:mysql://mysql:3306/mydb\"\n",
    "mysql_properties = {\n",
    "    \"user\": \"myuser\",\n",
    "    \"password\": \"mypassword\",\n",
    "    \"driver\": \"com.mysql.cj.jdbc.Driver\"\n",
    "}\n"
   ]
  },
  {
   "cell_type": "code",
   "execution_count": 4,
   "id": "00168b85-da4d-42a2-81ec-0f953d3e4ffc",
   "metadata": {},
   "outputs": [],
   "source": [
    "customers = spark.read.jdbc(mysql_url, \"customers\", properties=mysql_properties)\n",
    "products = spark.read.jdbc(mysql_url, \"products\", properties=mysql_properties)\n",
    "product_category_translation = spark.read.jdbc(mysql_url, \"product_category_translation\", properties=mysql_properties)\n",
    "orders = spark.read.jdbc(mysql_url, \"orders\", properties=mysql_properties)\n",
    "order_items = spark.read.jdbc(mysql_url, \"order_items\", properties=mysql_properties)\n",
    "order_reviews = spark.read.jdbc(mysql_url, \"order_reviews\", properties=mysql_properties)\n",
    "order_payments = spark.read.jdbc(mysql_url, \"order_payments\", properties=mysql_properties)\n",
    "sellers = spark.read.jdbc(mysql_url, \"sellers\", properties=mysql_properties)\n",
    "geolocation = spark.read.jdbc(mysql_url, \"geolocation\", properties=mysql_properties)"
   ]
  },
  {
   "cell_type": "code",
   "execution_count": 5,
   "id": "eb0d4daa-2561-4993-b05f-c792503af2cc",
   "metadata": {},
   "outputs": [
    {
     "name": "stdout",
     "output_type": "stream",
     "text": [
      "root\n",
      " |-- order_id: string (nullable = true)\n",
      " |-- customer_id: string (nullable = true)\n",
      " |-- order_status: string (nullable = true)\n",
      " |-- order_purchase_timestamp: string (nullable = true)\n",
      " |-- order_approved_at: string (nullable = true)\n",
      " |-- order_delivered_carrier_date: string (nullable = true)\n",
      " |-- order_delivered_customer_date: string (nullable = true)\n",
      " |-- order_estimated_delivery_date: string (nullable = true)\n",
      "\n"
     ]
    }
   ],
   "source": [
    "orders.printSchema()"
   ]
  },
  {
   "cell_type": "code",
   "execution_count": 6,
   "id": "ca708ee6-3dec-4d37-9ccc-a473fbec9046",
   "metadata": {},
   "outputs": [],
   "source": [
    "#df = customers"
   ]
  },
  {
   "cell_type": "code",
   "execution_count": null,
   "id": "2710d964-6cac-4f0d-94bd-23586b857e3c",
   "metadata": {},
   "outputs": [],
   "source": []
  },
  {
   "cell_type": "code",
   "execution_count": 7,
   "id": "bd243a20-3977-427e-9aee-ce53328d925d",
   "metadata": {
    "scrolled": true
   },
   "outputs": [],
   "source": [
    "#for i in df.columns :\n",
    "#    print(f\"=================================== {i} ============================== \")\n",
    "#    df.select(\n",
    "#        sum(when(col(i).isNull(), 1).otherwise(0)).alias(\"null_count\")\n",
    "#    ).show()"
   ]
  },
  {
   "cell_type": "code",
   "execution_count": 8,
   "id": "27a46ca0-3814-45eb-9c03-7e83556a9af9",
   "metadata": {
    "scrolled": true
   },
   "outputs": [],
   "source": [
    "#for i in df.columns:\n",
    "#    if isinstance(df.schema[i].dataType, StringType):  # Check if column is string type\n",
    "#        print(f\"================================= {i} ============================================\")\n",
    "#        df.groupBy(i).agg(count(\"*\").alias(\"value_count\")).orderBy(col(\"value_count\")).show(n=2000,truncate=False)"
   ]
  },
  {
   "cell_type": "code",
   "execution_count": null,
   "id": "70f674c4-2754-48a9-9e88-53aab2aee21d",
   "metadata": {
    "scrolled": true
   },
   "outputs": [],
   "source": []
  },
  {
   "cell_type": "code",
   "execution_count": 9,
   "id": "baa4648f-9b02-404b-9081-3e38ce5d7254",
   "metadata": {},
   "outputs": [],
   "source": [
    "#==================================================================================================================\n",
    "#==================================================================================================================\n",
    "#==================================================================================================================\n",
    "#==================================================================================================================\n",
    "#==================================================================================================================\n",
    "#==================================================================================================================\n",
    "#==================================================================================================================\n",
    "#=================================================================================================================="
   ]
  },
  {
   "cell_type": "code",
   "execution_count": 10,
   "id": "6a6dfa96-8afe-499b-87aa-21aeb5032259",
   "metadata": {},
   "outputs": [],
   "source": [
    "#======================================================= customers ===========================================\n",
    "customers_clean = customers.dropDuplicates([\"customer_id\"])\n",
    "customers_clean = customers_clean.filter(length(\"customer_zip_code_prefix\") == 5)\n",
    "customers_clean = customers_clean.filter(length(\"customer_state\") == 2)\n"
   ]
  },
  {
   "cell_type": "code",
   "execution_count": 11,
   "id": "62745fc5-6db6-46f3-b95d-fe46cdbca056",
   "metadata": {},
   "outputs": [],
   "source": [
    "corrections = {\n",
    "    \"sao jorge d oeste\": \"sao jorge do oeste\",\n",
    "    \"estrela d oeste\": \"estrela do oeste\", \n",
    "    \"palma d oeste\": \"palma do oeste\",\n",
    "    \"sao jorge d'oeste\": \"sao jorge do oeste\",\n",
    "    \"estrela d'oeste\": \"estrela do oeste\",\n",
    "    \"palma d'oeste\": \"palma do oeste\",\n",
    "    \"alvorada d'oeste\": \"alvorada do oeste\",\n",
    "    \"diamante d'oeste\": \"diamante do oeste\",\n",
    "    \"rancho alegre d'oeste\": \"rancho alegre do oeste\",\n",
    "    \"bandeirantes d'oeste\": \"bandeirantes do oeste\",\n",
    "    \"santa clara d'oeste\": \"santa clara do oeste\",\n",
    "    \"santa rita d'oeste\": \"santa rita do oeste\",\n",
    "    \"aparecida d'oeste\": \"aparecida do oeste\",\n",
    "    \"palmeira d oeste\": \"palmeira do oeste\",\n",
    "    \"palmeira d'oeste\": \"palmeira do oeste\" ,\n",
    "    'sao paulo - sp': 'sao paulo',\n",
    "    'sao paulo sp': 'sao paulo',\n",
    "    'sp': 'sao paulo',\n",
    "    'sao  paulo': 'sao paulo',\n",
    "    'sao pauo': 'sao paulo',\n",
    "    'sao paulop': 'sao paulo',\n",
    "    'são paulo': 'sao paulo',\n",
    "    'sbc': 'sao bernardo do campo',\n",
    "    'sbc/sp': 'sao bernardo do campo',\n",
    "    'riberao preto': 'ribeirao preto',\n",
    "    'robeirao preto': 'ribeirao preto',\n",
    "    'ribeirao pretp': 'ribeirao preto',\n",
    "    'sando andre': 'santo andre',\n",
    "    'ao bernardo do campo': 'sao bernardo do campo',\n",
    "    'garulhos': 'guarulhos',\n",
    "    'brasilia df': 'brasilia',\n",
    "    'rio de janeiro / rio de janeiro': 'rio de janeiro',\n",
    "    'rio de janeiro, rio de janeiro, brasil': 'rio de janeiro',\n",
    "    'mogi das cruses': 'mogi das cruzes',\n",
    "    'mogi das cruzes / sp': 'mogi das cruzes',\n",
    "    'santo andre/sao paulo': 'santo andre',\n",
    "    \"santa barbara d´oeste\": \"santa barbara d'oeste\",\n",
    "    \"santa barbara d oeste\": \"santa barbara d'oeste\",\n",
    "    'belo horizont': 'belo horizonte',\n",
    "    'cascavael': 'cascavel',\n",
    "    'floranopolis': 'florianopolis',\n",
    "}"
   ]
  },
  {
   "cell_type": "code",
   "execution_count": 12,
   "id": "10b28b50-5740-416d-9c91-7e9dbabd23e2",
   "metadata": {},
   "outputs": [],
   "source": [
    "# الخطوة 1: تنظيف أساسي (يتم تطبيقه مباشرة على العمود الأصلي)\n",
    "customers_clean = customers_clean.withColumn(\n",
    "    \"customer_city\",\n",
    "    lower(trim(regexp_replace(col(\"customer_city\"), \"[^a-zA-ZÀ-ÿ ]\", \"\")))\n",
    ")\n",
    "\n",
    "# الخطوة 2: تصحيح التهجئات الشائعة\n",
    "customers_clean = customers_clean.withColumn(\n",
    "    \"customer_city\",\n",
    "    regexp_replace(col(\"customer_city\"), \"\\\\bd['\\\\s]o\\\\b\", \" do \")\n",
    ")\n",
    "\n",
    "\n",
    "for wrong, correct in corrections.items():\n",
    "    customers_clean = customers_clean.withColumn(\n",
    "        \"customer_city\",\n",
    "        when(col(\"customer_city\") == wrong, correct).otherwise(col(\"customer_city\"))\n",
    ")\n"
   ]
  },
  {
   "cell_type": "code",
   "execution_count": 13,
   "id": "d71d5910-b98b-4c04-98fa-3241cf72745f",
   "metadata": {
    "scrolled": true
   },
   "outputs": [],
   "source": [
    "#print(f\"================================= customer_state ============================================\")\n",
    "#customers.groupBy(\"customer_city\").agg(count(\"*\").alias(\"value_count\")).orderBy(col(\"value_count\")).show(n=20000,truncate=False)"
   ]
  },
  {
   "cell_type": "code",
   "execution_count": 14,
   "id": "5292758f-ca24-485b-b592-178a9f4baf24",
   "metadata": {
    "scrolled": true
   },
   "outputs": [],
   "source": [
    "#print(f\"================================= customer_state ============================================\")\n",
    "#customers_clean.groupBy(\"customer_city\").agg(count(\"*\").alias(\"value_count\")).orderBy(col(\"value_count\")).show(n=20000,truncate=False)"
   ]
  },
  {
   "cell_type": "code",
   "execution_count": 15,
   "id": "1b65af04-7334-4c2d-aa36-175bf8bfe666",
   "metadata": {},
   "outputs": [
    {
     "name": "stdout",
     "output_type": "stream",
     "text": [
      "================================= Distinct customer_city count ============================================\n"
     ]
    },
    {
     "name": "stderr",
     "output_type": "stream",
     "text": [
      "[Stage 2:===================================>                       (3 + 2) / 5]"
     ]
    },
    {
     "name": "stdout",
     "output_type": "stream",
     "text": [
      "عدد القيم المختلفة في customer_city هو: 4078\n"
     ]
    },
    {
     "name": "stderr",
     "output_type": "stream",
     "text": [
      "                                                                                "
     ]
    }
   ],
   "source": [
    "print(\"================================= Distinct customer_city count ============================================\")\n",
    "distinct_count = customers_clean.select(\"customer_city\").distinct().count()\n",
    "print(f\"عدد القيم المختلفة في customer_city هو: {distinct_count}\")"
   ]
  },
  {
   "cell_type": "code",
   "execution_count": 16,
   "id": "bda328fc-abcb-4928-b8c9-3c2902a47e1d",
   "metadata": {},
   "outputs": [
    {
     "name": "stdout",
     "output_type": "stream",
     "text": [
      "================================= Distinct customer_city count ============================================\n",
      "عدد القيم المختلفة في customer_city هو: 4119\n"
     ]
    }
   ],
   "source": [
    "print(\"================================= Distinct customer_city count ============================================\")\n",
    "distinct_count = customers.select(\"customer_city\").distinct().count()\n",
    "print(f\"عدد القيم المختلفة في customer_city هو: {distinct_count}\")"
   ]
  },
  {
   "cell_type": "code",
   "execution_count": 17,
   "id": "5091b138-2a16-4ee7-8799-8fbd07ff20de",
   "metadata": {},
   "outputs": [
    {
     "name": "stdout",
     "output_type": "stream",
     "text": [
      "root\n",
      " |-- customer_id: string (nullable = true)\n",
      " |-- customer_unique_id: string (nullable = true)\n",
      " |-- customer_zip_code_prefix: long (nullable = true)\n",
      " |-- customer_city: string (nullable = true)\n",
      " |-- customer_state: string (nullable = true)\n",
      "\n"
     ]
    }
   ],
   "source": [
    "customers_clean.printSchema()"
   ]
  },
  {
   "cell_type": "code",
   "execution_count": 18,
   "id": "9e950b62-85b8-4623-a6a0-29d42eab0bab",
   "metadata": {},
   "outputs": [],
   "source": [
    "#======================================================= products ===========================================\n",
    "products_clean = products.filter(products.product_category_name.isNotNull())\n",
    "products_clean = products_clean.dropna(subset=[\n",
    "    \"product_weight_g\", \"product_length_cm\", \"product_height_cm\", \"product_width_cm\"\n",
    "])\n",
    "products_clean = products_clean \\\n",
    "    .withColumn(\"product_name_lenght\", col(\"product_name_lenght\").cast(\"int\")) \\\n",
    "    .withColumn(\"product_description_lenght\", col(\"product_description_lenght\").cast(\"int\")) \\\n",
    "    .withColumn(\"product_photos_qty\", col(\"product_photos_qty\").cast(\"int\")) \\\n",
    "    .withColumn(\"product_weight_g\", col(\"product_weight_g\").cast(\"int\")) \\\n",
    "    .withColumn(\"product_length_cm\", col(\"product_length_cm\").cast(\"int\")) \\\n",
    "    .withColumn(\"product_height_cm\", col(\"product_height_cm\").cast(\"int\")) \\\n",
    "    .withColumn(\"product_width_cm\", col(\"product_width_cm\").cast(\"int\"))\n",
    "\n",
    "products_clean = products_clean.withColumn(\n",
    "    \"product_volume_cm3\",\n",
    "    expr(\"product_length_cm * product_height_cm * product_width_cm\")\n",
    ")\n",
    "products_clean = products_clean.withColumn(\n",
    "    \"product_category_name\", trim(lower(\"product_category_name\"))\n",
    ")\n"
   ]
  },
  {
   "cell_type": "code",
   "execution_count": 19,
   "id": "b984cfe1-ceaa-4439-b209-afeddacca5bc",
   "metadata": {},
   "outputs": [
    {
     "name": "stdout",
     "output_type": "stream",
     "text": [
      "root\n",
      " |-- product_id: string (nullable = true)\n",
      " |-- product_category_name: string (nullable = true)\n",
      " |-- product_name_lenght: integer (nullable = true)\n",
      " |-- product_description_lenght: integer (nullable = true)\n",
      " |-- product_photos_qty: integer (nullable = true)\n",
      " |-- product_weight_g: integer (nullable = true)\n",
      " |-- product_length_cm: integer (nullable = true)\n",
      " |-- product_height_cm: integer (nullable = true)\n",
      " |-- product_width_cm: integer (nullable = true)\n",
      " |-- product_volume_cm3: integer (nullable = true)\n",
      "\n"
     ]
    }
   ],
   "source": [
    "products_clean.printSchema()"
   ]
  },
  {
   "cell_type": "code",
   "execution_count": 20,
   "id": "5c24da58-ed1c-4487-915d-dcd332c22784",
   "metadata": {},
   "outputs": [],
   "source": [
    "#======================================================= product_category_translation ===========================================\n",
    "product_category_translation_clean = product_category_translation.withColumn(\n",
    "    \"product_category_name\", trim(lower(\"product_category_name\"))\n",
    ")\n"
   ]
  },
  {
   "cell_type": "code",
   "execution_count": 21,
   "id": "df1ae30b-f955-4959-b0db-6ca3b0980154",
   "metadata": {},
   "outputs": [],
   "source": [
    "#=======================================================  product ===========================================\n",
    "products_enriched = products_clean.join(\n",
    "    product_category_translation_clean,\n",
    "    on=\"product_category_name\",\n",
    "    how=\"left\"\n",
    ")"
   ]
  },
  {
   "cell_type": "code",
   "execution_count": 22,
   "id": "224b8743-779e-4f22-aa2f-6772e78f22a0",
   "metadata": {},
   "outputs": [],
   "source": [
    "#======================================================= orders ===========================================\n",
    "\n",
    "orders_clean = orders.filter(\n",
    "    ~col(\"order_status\").isin(\"created\", \"approved\")\n",
    ")\n",
    "\n",
    "orders_clean = orders_clean \\\n",
    "    .withColumn(\"order_purchase_timestamp\", to_timestamp(\"order_purchase_timestamp\")) \\\n",
    "    .withColumn(\"order_approved_at\", to_timestamp(\"order_approved_at\")) \\\n",
    "    .withColumn(\"order_delivered_carrier_date\", to_timestamp(\"order_delivered_carrier_date\")) \\\n",
    "    .withColumn(\"order_delivered_customer_date\", to_timestamp(\"order_delivered_customer_date\")) \\\n",
    "    .withColumn(\"order_estimated_delivery_date\", to_timestamp(\"order_estimated_delivery_date\"))\n",
    "\n",
    "orders_clean = orders_clean.withColumn(\n",
    "    \"shipping_days\",\n",
    "    datediff(\"order_delivered_customer_date\", \"order_purchase_timestamp\")\n",
    ")\n",
    "orders_clean = orders_clean.withColumn(\n",
    "    \"delivery_delay\",\n",
    "    datediff(\"order_delivered_customer_date\", \"order_estimated_delivery_date\")\n",
    ")"
   ]
  },
  {
   "cell_type": "code",
   "execution_count": 23,
   "id": "fd3a7da7-f884-4240-b3a4-a821f84b3306",
   "metadata": {},
   "outputs": [
    {
     "data": {
      "text/plain": [
       "True"
      ]
     },
     "execution_count": 23,
     "metadata": {},
     "output_type": "execute_result"
    }
   ],
   "source": [
    "orders_clean.select(\"order_id\").distinct().count() == orders_clean.count()"
   ]
  },
  {
   "cell_type": "code",
   "execution_count": 24,
   "id": "60c35027-b15b-4f75-af7c-a82eb8353104",
   "metadata": {},
   "outputs": [],
   "source": [
    "#======================================================= order_items ===========================================\n",
    "#order_items_clean = order_items_clean.filter((col(\"price\") <= 0) | (col(\"freight_value\") < 0))\n",
    "order_items_clean = order_items.withColumn(\n",
    "    \"shipping_limit_date\", to_timestamp(\"shipping_limit_date\")\n",
    ")\n",
    "\n",
    "# نحتفظ بالصفوف اللي سعرها أكبر من صفر\n",
    "order_items_clean = order_items_clean.filter((col(\"price\") > 0) & (col(\"freight_value\") >= 0))\n",
    "\n",
    "# نضيف total_cost\n",
    "order_items_clean = order_items_clean.withColumn(\n",
    "    \"total_cost\", expr(\"price + freight_value\")\n",
    ")"
   ]
  },
  {
   "cell_type": "code",
   "execution_count": 25,
   "id": "ec5fff09-0569-40fc-ba9b-92b7e2fb03d7",
   "metadata": {},
   "outputs": [],
   "source": [
    "#order_items.show()"
   ]
  },
  {
   "cell_type": "code",
   "execution_count": 26,
   "id": "9178ce0d-08ff-411d-a80a-daaf3610106d",
   "metadata": {},
   "outputs": [],
   "source": [
    "#======================================================= order_reviews ===========================================\n",
    "order_reviews_clean = order_reviews \\\n",
    "    .withColumn(\"review_creation_date\", to_timestamp(\"review_creation_date\")) \\\n",
    "    .withColumn(\"review_answer_timestamp\", to_timestamp(\"review_answer_timestamp\"))\n",
    "\n",
    "order_reviews_clean = order_reviews_clean \\\n",
    "    .withColumn(\"has_message\", when(order_reviews_clean.review_comment_message.isNull(), 0).otherwise(1)) \\\n",
    "    .withColumn(\"has_title\", when(order_reviews_clean.review_comment_title.isNull(), 0).otherwise(1))\n",
    "\n",
    "order_reviews_clean = order_reviews_clean \\\n",
    "    .withColumn(\"clean_comment_message\", trim(lower(regexp_replace(\"review_comment_message\", \"[^a-zA-Z0-9çãáéíóúâêôõüàèìòùÇÃÁÉÍÓÚÂÊÔÕÜÀÈÌÒÙ ]\", \"\")))) \\\n",
    "    .withColumn(\"clean_comment_title\", trim(lower(regexp_replace(\"review_comment_title\", \"[^a-zA-Z0-9çãáéíóúâêôõüàèìòùÇÃÁÉÍÓÚÂÊÔÕÜÀÈÌÒÙ ]\", \"\"))))\n",
    "\n",
    "order_reviews_clean = order_reviews_clean.withColumn(\n",
    "    \"review_sentiment\",\n",
    "    when(col(\"review_score\") >= 4, \"positive\")\n",
    "    .when(col(\"review_score\") == 3, \"neutral\")\n",
    "    .otherwise(\"negative\")\n",
    ")"
   ]
  },
  {
   "cell_type": "code",
   "execution_count": null,
   "id": "42f82c70-44bd-4c7a-b570-566cc797b2ad",
   "metadata": {},
   "outputs": [],
   "source": []
  },
  {
   "cell_type": "code",
   "execution_count": null,
   "id": "ef6c0c11-ccb0-42f4-8e98-9e97aa2d5873",
   "metadata": {},
   "outputs": [],
   "source": [
    "#======================================================= order_payments ===========================================\n",
    "order_payments_clean = order_payments.groupBy(\"order_id\").agg(\n",
    "    sum(\"payment_value\").alias(\"total_payment\"),\n",
    "    sum(\"payment_installments\").alias(\"total_installments\"),\n",
    "    count_distinct(\"payment_type\").alias(\"payment_methods_count\"),\n",
    "    first(\"payment_type\").alias(\"main_payment_type\")\n",
    ")"
   ]
  },
  {
   "cell_type": "code",
   "execution_count": 28,
   "id": "12efa717-841a-4f4e-b939-1ead99abfb9d",
   "metadata": {},
   "outputs": [],
   "source": [
    "#=======================================================  order ===========================================\n",
    "orders_items_joined = orders_clean.join(\n",
    "    order_items_clean,\n",
    "    on=\"order_id\",\n",
    "    how=\"left\"\n",
    ")\n",
    "orders_items_payments_joined = orders_items_joined.join(\n",
    "    order_payments_clean,\n",
    "    on=\"order_id\",\n",
    "    how=\"left\"\n",
    ")\n",
    "orders_full_cleaned = orders_items_payments_joined.join(\n",
    "    order_reviews_clean,\n",
    "    on=\"order_id\",\n",
    "    how=\"left\"\n",
    ")\n"
   ]
  },
  {
   "cell_type": "code",
   "execution_count": 29,
   "id": "7f5b03ac-7ff6-48b6-92f5-b18967d753d6",
   "metadata": {},
   "outputs": [
    {
     "name": "stdout",
     "output_type": "stream",
     "text": [
      "+--------------------+--------------------+-------------------+------+-------------+\n",
      "|           seller_id|          product_id|shipping_limit_date| price|freight_value|\n",
      "+--------------------+--------------------+-------------------+------+-------------+\n",
      "|48436dade18ac8b2b...|4244733e06e7ecb49...|2017-09-19 09:45:35|  58.9|        13.29|\n",
      "|dd7ddc04e1b6c2c61...|e5f2d52b802189ee6...|2017-05-03 11:05:13| 239.9|        19.93|\n",
      "|5b51032eddd242adc...|c777355d18b72b67a...|2018-01-18 14:48:30| 199.0|        17.87|\n",
      "|9d7a1d34a50524090...|7634da152a4610f15...|2018-08-15 10:10:18| 12.99|        12.79|\n",
      "|df560393f3a51e745...|ac6c3623068f30de0...|2017-02-13 13:57:51| 199.9|        18.14|\n",
      "|6426d21aca402a131...|ef92defde845ab845...|2017-05-23 03:55:27|  21.9|        12.69|\n",
      "|7040e82f899a04d1b...|8d4f2bb7e93e6710a...|2017-12-14 12:10:31|  19.9|        11.85|\n",
      "|5996cddab893a4652...|557d850972a7d6f79...|2018-07-10 12:30:45| 810.0|        70.75|\n",
      "|a416b6a846a117243...|310ae3c140ff94b03...|2018-03-26 18:31:29|145.95|        11.65|\n",
      "|ba143b05f0110f0dc...|4535b0e1091c278df...|2018-07-06 14:10:56| 53.99|         11.4|\n",
      "|cc419e0650a3c5ba7...|d63c1011f49d98b97...|2018-03-29 22:28:09| 59.99|         8.88|\n",
      "|8602a61d680a10a82...|f177554ea93259a5b...|2018-07-31 17:30:39|  45.0|        12.98|\n",
      "|4a3ca9315b744ce9f...|99a4788cb24856965...|2018-07-26 17:24:20|  74.0|        23.32|\n",
      "|1f50f920176fa81da...|368c6c730842d7801...|2018-02-21 02:55:52|  49.9|        13.37|\n",
      "|1f50f920176fa81da...|368c6c730842d7801...|2018-02-21 02:55:52|  49.9|        13.37|\n",
      "|530ec6109d11eaaf8...|8cab8abac59158715...|2018-08-17 12:15:10|  99.9|        27.65|\n",
      "|fcb5ace8bcc92f757...|3f27ac8e699df3d30...|2018-05-02 09:31:53| 639.0|        11.34|\n",
      "|fe2032dab1a61af87...|4fa33915031a8cde0...|2018-05-16 20:57:03| 144.0|         8.77|\n",
      "|218d46b86c1881d02...|b50c950aba0dcead2...|2017-08-21 03:33:13|  99.0|        13.71|\n",
      "|8cbac7e12637ed9cf...|5ed9eaf534f6936b5...|2018-02-28 12:08:37|  25.0|        16.11|\n",
      "+--------------------+--------------------+-------------------+------+-------------+\n",
      "only showing top 20 rows\n",
      "\n"
     ]
    }
   ],
   "source": [
    "#orders_clean.select(\"seller_id\", \"product_id\",\"shipping_limit_date\", \"price\",\"freight_value\", \"total_cost\").show()\n"
   ]
  },
  {
   "cell_type": "code",
   "execution_count": 30,
   "id": "a0a840a8-51d6-4a9e-b37e-634b39cdbf50",
   "metadata": {},
   "outputs": [],
   "source": [
    "#=======================================================  sellers ===========================================\n",
    "# الخطوة 1: تنظيف أساسي (يتم تطبيقه مباشرة على العمود الأصلي)\n",
    "sellers_cleaned = sellers.withColumn(\n",
    "    \"seller_city\",\n",
    "    lower(trim(regexp_replace(col(\"seller_city\"), \"[^a-zA-ZÀ-ÿ ]\", \"\")))\n",
    ")\n",
    "\n",
    "# الخطوة 2: تصحيح التهجئات الشائعة\n",
    "sellers_cleaned = sellers_cleaned.withColumn(\n",
    "    \"seller_city\",\n",
    "    regexp_replace(col(\"seller_city\"), \"\\\\bd['\\\\s]o\\\\b\", \" do \")\n",
    ")\n",
    "\n",
    "\n",
    "for wrong, correct in corrections.items():\n",
    "    sellers_cleaned = sellers_cleaned.withColumn(\n",
    "        \"seller_city\",\n",
    "        when(col(\"seller_city\") == wrong, correct).otherwise(col(\"seller_city\"))\n",
    ")\n"
   ]
  },
  {
   "cell_type": "code",
   "execution_count": 31,
   "id": "905a2e63-5449-47ee-9695-1f42fc83cc33",
   "metadata": {},
   "outputs": [],
   "source": [
    "#=======================================================  geolocation ===========================================\n",
    "geolocation_clean = geolocation.dropna(subset=[\n",
    "    \"geolocation_zip_code_prefix\", \n",
    "    \"geolocation_lat\", \n",
    "    \"geolocation_lng\", \n",
    "    \"geolocation_city\", \n",
    "    \"geolocation_state\"\n",
    "]).dropDuplicates([\"geolocation_zip_code_prefix\", \"geolocation_city\", \"geolocation_state\"])\n"
   ]
  },
  {
   "cell_type": "code",
   "execution_count": 32,
   "id": "d976b747-8fd2-4066-b9d1-402ef5fb01d4",
   "metadata": {
    "scrolled": true
   },
   "outputs": [],
   "source": [
    "#tables = {\n",
    "#    \"customers_clean\": customers_clean,\n",
    "#    \"products_enriched\": products_enriched, \n",
    "#    \"orders_full_cleaned\": orders_full_cleaned,\n",
    "#    \"sellers_cleaned\": sellers_cleaned,\n",
    "#    \"geolocation_clean\": geolocation_clean\n",
    "#}\n",
    "\n",
    "#for name, df in tables.items():\n",
    "#    print(f\"\\n=== Schema for {name} ===\")\n",
    "#    df.printSchema()"
   ]
  },
  {
   "cell_type": "code",
   "execution_count": 33,
   "id": "e7d300f8-9a09-44c2-ad73-b7e9f8130217",
   "metadata": {},
   "outputs": [],
   "source": [
    "#================================================================================================================\n",
    "#================================================================================================================\n",
    "#================================================================================================================\n",
    "#================================================================================================================\n",
    "#================================================================================================================\n",
    "#================================================================================================================\n",
    "#================================================================================================================"
   ]
  },
  {
   "cell_type": "code",
   "execution_count": 34,
   "id": "0ccdfcfa-f09f-4c0f-a889-0193ad1ed015",
   "metadata": {},
   "outputs": [],
   "source": [
    "dim_customers = customers_clean.select(\n",
    "    \"customer_id\",\n",
    "    \"customer_unique_id\",\n",
    "    \"customer_zip_code_prefix\",\n",
    "    \"customer_city\",\n",
    "    \"customer_state\"\n",
    ").dropDuplicates([\"customer_id\"])\n"
   ]
  },
  {
   "cell_type": "code",
   "execution_count": 35,
   "id": "be2bd319-010e-4d16-9172-eeb87d02f7f1",
   "metadata": {},
   "outputs": [],
   "source": [
    "dim_sellers = sellers_cleaned.select(\n",
    "    \"seller_id\",\n",
    "    \"seller_zip_code_prefix\",\n",
    "    \"seller_city\",\n",
    "    \"seller_state\"\n",
    ").dropDuplicates([\"seller_id\"])\n"
   ]
  },
  {
   "cell_type": "code",
   "execution_count": 36,
   "id": "ee166faf-4918-48e7-87a4-4d904de57b91",
   "metadata": {},
   "outputs": [],
   "source": [
    "dim_products = products_enriched.select(\n",
    "    \"product_id\",\n",
    "    \"product_category_name\",\n",
    "    \"product_category_name_english\",\n",
    "    \"product_name_lenght\",\n",
    "    \"product_description_lenght\",\n",
    "    \"product_photos_qty\",\n",
    "    \"product_weight_g\",\n",
    "    \"product_length_cm\",\n",
    "    \"product_height_cm\",\n",
    "    \"product_width_cm\",\n",
    "    \"product_volume_cm3\"\n",
    ").dropDuplicates([\"product_id\"])\n"
   ]
  },
  {
   "cell_type": "code",
   "execution_count": 37,
   "id": "e1037620-8d6c-400b-b929-8b781a01e8bd",
   "metadata": {},
   "outputs": [],
   "source": [
    "#dim_geolocation = geolocation_clean.select(\n",
    "#    col(\"geolocation_zip_code_prefix\").alias(\"zip_code_prefix\"),\n",
    "#    \"geolocation_lat\",\n",
    "#    \"geolocation_lng\",\n",
    "#    \"geolocation_city\",\n",
    "#    \"geolocation_state\"\n",
    "#).dropDuplicates([\"zip_code_prefix\"])\n"
   ]
  },
  {
   "cell_type": "code",
   "execution_count": 38,
   "id": "bf7716ad-fc52-4d44-9698-94b218992351",
   "metadata": {},
   "outputs": [],
   "source": [
    "min_max = orders_full_cleaned.select(\n",
    "    min(\"order_purchase_timestamp\").alias(\"start\"),\n",
    "    max(\"order_purchase_timestamp\").alias(\"end\")\n",
    ").first()\n",
    "\n",
    "start_date = min_max[\"start\"].date()\n",
    "end_date = min_max[\"end\"].date()\n",
    "\n",
    "date_df = spark.sql(f\"\"\"\n",
    "    SELECT explode(sequence(to_date('{start_date}'), to_date('{end_date}'), interval 1 day)) as date_key\n",
    "\"\"\")\n",
    "\n",
    "dim_date = date_df.withColumn(\"day\", dayofmonth(\"date_key\")) \\\n",
    "                  .withColumn(\"month\", month(\"date_key\")) \\\n",
    "                  .withColumn(\"year\", year(\"date_key\")) \\\n",
    "                  .withColumn(\"day_of_week\", date_format(\"date_key\", \"E\")) \\\n",
    "                  .withColumn(\"week_of_year\", weekofyear(\"date_key\")) \\\n",
    "                  .withColumn(\"day_name\", date_format(\"date_key\", \"EEEE\")) \\\n",
    "                  .withColumn(\"month_name\", date_format(\"date_key\", \"MMMM\"))"
   ]
  },
  {
   "cell_type": "code",
   "execution_count": 39,
   "id": "4f36b004-4987-4308-a88a-59db8bcd781b",
   "metadata": {},
   "outputs": [],
   "source": [
    "\n",
    "fact_orders = orders_full_cleaned.select(\n",
    "    \"order_id\",\n",
    "    \"customer_id\",\n",
    "    \"seller_id\",\n",
    "    \"product_id\",\n",
    "\n",
    "    # 🔑 تواريخ على هيئة timestamps\n",
    "    \"order_purchase_timestamp\",\n",
    "    \"shipping_limit_date\",\n",
    "    \"order_delivered_carrier_date\",\n",
    "    \"order_delivered_customer_date\",\n",
    "    \"order_estimated_delivery_date\",\n",
    "\n",
    "    # 🔢 measures\n",
    "    \"shipping_days\",\n",
    "    \"delivery_delay\",\n",
    "    \"price\",\n",
    "    \"freight_value\",\n",
    "    \"total_cost\",\n",
    "    \"total_payment\",\n",
    "    \"total_installments\",\n",
    "    \"payment_methods_count\",    # أضفناه\n",
    "    \"main_payment_type\",\n",
    "\n",
    "    # 🔍 تقييم العميل (score + sentiment فقط)\n",
    "    \"review_score\",\n",
    "    \"review_sentiment\",\n",
    "\n",
    "    # ▶️ مفاتيح التواريخ لربط dim_date\n",
    "    to_date(\"order_purchase_timestamp\").alias(\"purchase_date_key\"),\n",
    "    to_date(\"order_delivered_customer_date\").alias(\"delivered_date_key\"),\n",
    "    to_date(\"order_estimated_delivery_date\").alias(\"estimated_date_key\")\n",
    ")\n"
   ]
  },
  {
   "cell_type": "code",
   "execution_count": 40,
   "id": "b76eb949-d024-4fd6-9d67-4b69866bacfc",
   "metadata": {
    "scrolled": true
   },
   "outputs": [],
   "source": [
    "#tables = {\n",
    "#    \"dim_customers\": dim_customers,\n",
    "#    \"dim_sellers\": dim_sellers, \n",
    "#    \"dim_products\": dim_products,\n",
    "#    \"dim_date\": dim_date,\n",
    "#    \"fact_orders\": fact_orders\n",
    "#}\n",
    "\n",
    "#for name, df in tables.items():\n",
    "#    print(f\"\\n=== Schema for {name} ===\")\n",
    "#    df.printSchema()"
   ]
  },
  {
   "cell_type": "code",
   "execution_count": 41,
   "id": "0a95715a-ee85-4501-a83c-b10686c238ec",
   "metadata": {},
   "outputs": [],
   "source": [
    "#===================================================================================================================\n",
    "#===================================================================================================================\n",
    "#===================================================================================================================\n",
    "#===================================================================================================================\n",
    "#===================================================================================================================\n",
    "#===================================================================================================================\n",
    "#==================================================================================================================="
   ]
  },
  {
   "cell_type": "code",
   "execution_count": null,
   "id": "090da55c-d818-4fd0-9754-91fb989e2216",
   "metadata": {},
   "outputs": [
    {
     "name": "stderr",
     "output_type": "stream",
     "text": [
      "25/07/21 06:08:41 WARN SparkSession: Using an existing Spark session; only runtime SQL configurations will take effect.\n"
     ]
    }
   ],
   "source": []
  },
  {
   "cell_type": "code",
   "execution_count": 43,
   "id": "e2675e54-fb98-4d7f-a1e3-1ae40a0e6ab0",
   "metadata": {},
   "outputs": [],
   "source": [
    "clickhouse_url = \"jdbc:clickhouse://clickhouse:8123/ecommerce\"\n",
    "clickhouse_properties = {\n",
    "    \"user\": \"default\",\n",
    "    \"password\": \"123\",\n",
    "    \"driver\": \"com.clickhouse.jdbc.ClickHouseDriver\"\n",
    "}"
   ]
  },
  {
   "cell_type": "code",
   "execution_count": 44,
   "id": "4533a3f6-d981-4ab9-96cd-86647e122158",
   "metadata": {},
   "outputs": [
    {
     "name": "stderr",
     "output_type": "stream",
     "text": [
      "25/07/21 06:08:49 WARN package: Truncated the string representation of a plan since it was too large. This behavior can be adjusted by setting 'spark.sql.debug.maxToStringFields'.\n",
      "                                                                                "
     ]
    }
   ],
   "source": [
    "dim_customers.write.jdbc(clickhouse_url, \"dim_customers\", mode=\"append\", properties=clickhouse_properties)\n",
    "dim_sellers.write.jdbc(clickhouse_url, \"dim_sellers\", mode=\"append\", properties=clickhouse_properties)\n",
    "dim_products.write.jdbc(clickhouse_url, \"dim_products\", mode=\"append\", properties=clickhouse_properties)\n",
    "dim_date.write.jdbc(clickhouse_url, \"dim_date\", mode=\"append\", properties=clickhouse_properties)\n",
    "fact_orders.write.jdbc(clickhouse_url, \"fact_orders\", mode=\"append\", properties=clickhouse_properties)\n"
   ]
  },
  {
   "cell_type": "code",
   "execution_count": null,
   "id": "d6ec28ed-332d-44b4-a53a-b3c38b2644c7",
   "metadata": {},
   "outputs": [],
   "source": []
  },
  {
   "cell_type": "code",
   "execution_count": null,
   "id": "28fe5598-87fa-4bfa-bde9-7eca0d829d09",
   "metadata": {},
   "outputs": [],
   "source": []
  }
 ],
 "metadata": {
  "kernelspec": {
   "display_name": "Python 3 (ipykernel)",
   "language": "python",
   "name": "python3"
  },
  "language_info": {
   "codemirror_mode": {
    "name": "ipython",
    "version": 3
   },
   "file_extension": ".py",
   "mimetype": "text/x-python",
   "name": "python",
   "nbconvert_exporter": "python",
   "pygments_lexer": "ipython3",
   "version": "3.11.8"
  }
 },
 "nbformat": 4,
 "nbformat_minor": 5
}
